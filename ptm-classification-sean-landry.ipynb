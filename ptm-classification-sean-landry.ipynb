{
 "cells": [
  {
   "cell_type": "markdown",
   "metadata": {
    "slideshow": {
     "slide_type": "skip"
    }
   },
   "source": [
    "# Classifying Post Translational Modifications with scikit-learn\n",
    "## Sean Landry\n",
    "## April 30, 2018\n",
    "## Graduate final project, csci-e29, Python for Data Science\n",
    "## TF Name: Alan Xie (previously Phil Lodine)\n"
   ]
  },
  {
   "cell_type": "markdown",
   "metadata": {
    "slideshow": {
     "slide_type": "slide"
    }
   },
   "source": [
    "![title](images/title-slide.png)"
   ]
  },
  {
   "cell_type": "markdown",
   "metadata": {
    "slideshow": {
     "slide_type": "slide"
    }
   },
   "source": [
    "![staff](images/staff-slide.png)\n",
    "\n"
   ]
  },
  {
   "cell_type": "markdown",
   "metadata": {
    "slideshow": {
     "slide_type": "slide"
    }
   },
   "source": [
    "![abstract](images/abstract-slide.png)"
   ]
  },
  {
   "cell_type": "markdown",
   "metadata": {
    "slideshow": {
     "slide_type": "slide"
    }
   },
   "source": [
    "![libraries](images/libraries-datasets-slide.png)"
   ]
  },
  {
   "cell_type": "markdown",
   "metadata": {
    "slideshow": {
     "slide_type": "slide"
    }
   },
   "source": [
    "![ptm](images/ptm-slide.png)"
   ]
  },
  {
   "cell_type": "markdown",
   "metadata": {
    "slideshow": {
     "slide_type": "slide"
    }
   },
   "source": [
    "![worklfow](images/workflow.png)"
   ]
  },
  {
   "cell_type": "code",
   "execution_count": 1,
   "metadata": {
    "slideshow": {
     "slide_type": "skip"
    }
   },
   "outputs": [],
   "source": [
    "import pandas as pd\n",
    "import wikipedia ## pip install wikipedia\n",
    "import pandas as pd ## conda install pandas\n",
    "import numpy as np\n",
    "from multiprocessing import Pool\n",
    "import pubchempy as pcp ## pip install pubchempy\n",
    "from sklearn.metrics import confusion_matrix, classification_report\n",
    "from sklearn.preprocessing import StandardScaler\n",
    "from sklearn.ensemble import RandomForestClassifier\n",
    "from sklearn.svm import SVC\n",
    "from sklearn.model_selection import GridSearchCV\n",
    "from sklearn.decomposition import PCA\n",
    "from sklearn.pipeline import Pipeline\n",
    "from sklearn.model_selection import train_test_split ## conda install scikit-learn\n",
    "from sklearn.metrics import accuracy_score"
   ]
  },
  {
   "cell_type": "markdown",
   "metadata": {
    "slideshow": {
     "slide_type": "slide"
    }
   },
   "source": [
    "## Feature Engineering\n",
    "\n",
    "1. helper functions\n",
    "2. load the datasets\n",
    "3. extract AA positions, label, sample, and concat\n",
    "4. retrieve data from wikipedia and pubchem\n",
    "5. prepare data for models (one hot encoding, train, test, split, etc...)"
   ]
  },
  {
   "cell_type": "markdown",
   "metadata": {
    "slideshow": {
     "slide_type": "skip"
    }
   },
   "source": [
    "### 1.  Helper Functions"
   ]
  },
  {
   "cell_type": "code",
   "execution_count": 2,
   "metadata": {
    "slideshow": {
     "slide_type": "skip"
    }
   },
   "outputs": [],
   "source": [
    "## some helper functions for feature engineering\n",
    "def parse_aa_positions(df):\n",
    "    \"\"\"Parse each position of an amino acid sequence.\n",
    "    \n",
    "    Args:\n",
    "        df (pd.DataFrame):  Accepts and pandas dataframe with the column \"SITE_+/-7_AA\".  The string in each\n",
    "                            row of the column \"SITE_+/-7_AA\" is expected to be in the format \"DkSELVQkAkLAEQA\".\n",
    "        \n",
    "    Returns:\n",
    "        features (pd.DataFrame):  The original dataframe with additional columns for each amino acid position. \n",
    "                                  The position columns will be labeled p1 --> pn for n number of positions.\n",
    "    \n",
    "    \"\"\"\n",
    "    features = df.copy()\n",
    "    \n",
    "    sites = [\"p\" + str(i) for i in range(len(features[\"SITE_+/-7_AA\"].iloc[0]))]\n",
    "    \n",
    "    sites_df = pd.DataFrame(features[\"SITE_+/-7_AA\"].apply(lambda x: list(x.upper())).values.tolist(), columns=sites)\n",
    "    sites_df[\"ptm-aa\"] = sites_df[\"p7\"]\n",
    "    \n",
    "    features = features.join(sites_df)\n",
    "    \n",
    "    return features\n",
    "\n",
    "def retrieve_wiki_aa_table(page_name, table_int):\n",
    "    \"\"\"Retrieve a table from a wikipedia page.\n",
    "    \n",
    "    Args:\n",
    "        page_name (str):  Name of the page, e.g. 'Amino acid'.\n",
    "        table_int (int):  Number of table on the page, e.g. 2.\n",
    "    \n",
    "    Returns:\n",
    "        pd.DataFrame: The table as a pandas dataframe.\n",
    "    \n",
    "    \"\"\"\n",
    "    p = wikipedia.page(page_name)\n",
    "    all_tables = pd.read_html(p.html())\n",
    "    wiki_aa = all_tables[1]\n",
    "    return wiki_aa.loc[1:,:].rename(columns = wiki_aa.loc[0,:])\n",
    "\n",
    "def retrieve_pcp_compound(aminos, \n",
    "                          properties=[\"atom_stereo_count\", \n",
    "                                      \"complexity\", \n",
    "                                      \"rotatable_bond_count\", \n",
    "                                      \"tspa\", \"xlogp\"]):\n",
    "    \"\"\"Query pubchem and retrieve chemical properties for a list of amino acids.\n",
    "    \n",
    "    Args:\n",
    "        aminos (list):  A list of amino acid names, e.g. ['arginine', 'alanine', etc..].\n",
    "        properties (list):  A list of properties to retrieves, [default: [\"atom_stereo_count\", \"complexity\", \"rotatable_bond_count\", \"tspa\", \"xlogp\"]]\n",
    "    \n",
    "    Returns:\n",
    "    pd.DataFrame:  A pandas dataframe with amino acids and their properties.\n",
    "    \n",
    "    \"\"\"\n",
    "    pub_aa = []\n",
    "    for aa in aminos:\n",
    "    \n",
    "        if aa != \"Glycine\":\n",
    "            pcp_name = \"L-\" + aa ## e.g. \"L-Arginine\"\n",
    "        compound = pcp.get_compounds(pcp_name, \"name\", as_dataframe=True)\n",
    "        compound[\"Amino acid\"] = aa\n",
    "        compound[\"pcp-name\"] = pcp_name\n",
    "        pub_aa.append(compound)\n",
    "    \n",
    "    pub_aa = pd.concat(pub_aa)\n",
    "    return pub_aa.filter(items= properties + [\"Amino acid\", \"pcp-name\"])\n",
    "\n",
    "\n",
    "\n",
    "def parallelize_dataframe(df, func, num_partitions = 7, num_cores = 7):\n",
    "    \"\"\"Apply a function to a dataframe in parallel.\n",
    "    \n",
    "    Reference --> http://www.racketracer.com/2016/07/06/pandas-in-parallel/\n",
    " \n",
    "    Args:\n",
    "        df (pd.DataFrame):  The dataframe to which the function should be applied.\n",
    "        func (function):  The function to apply to each partition.\n",
    "        num_paritions (int):  How many times to split the dataframe.\n",
    "        num_cores (int):  The number of cores to use.\n",
    "        \n",
    "    Returns:\n",
    "        pandas.DataFrame:  The processed dataframe.\n",
    "    \"\"\"\n",
    "    df_split = np.array_split(df, num_partitions)\n",
    "    pool = Pool(num_cores)\n",
    "    df = pd.concat(pool.map(func, df_split))\n",
    "    pool.close()\n",
    "    pool.join()\n",
    "    return df\n",
    "\n",
    "\n",
    "def apply_features(x, cname):\n",
    "    \"\"\"Extract features for an amino acid from a dataframe named 'aa_features_slim'\n",
    "    \n",
    "    Important --> this function requires a global variable 'aa_features_slim', which is a\n",
    "    dataframe containing the desired amino acid properties.\n",
    "    \n",
    "    Args:\n",
    "        x (str):  The amino acid one letter code, e.g. \"W\".\n",
    "        cname (str): The name of column from which 'x' originated, e.g. \"p1\".\n",
    "        \n",
    "    Returns:\n",
    "        pd.DataFrame:  A dataframe of features for the amino acid with columns named with the 'cname',\n",
    "                       e.g. \"p14-Side chain class\", \"p14-Side chain polarity[136]\", etc...\n",
    "    \n",
    "    \"\"\"\n",
    "    features = aa_features_slim[aa_features_slim[\"1-letter[136]\"] == x].drop(columns = \"1-letter[136]\")\n",
    "    if features.shape[0] == 0:\n",
    "        features = pd.concat([features ,pd.DataFrame(np.nan, index=[0], columns=features.columns)])\n",
    "    names = {c:cname + \"-\" + c for c in features.columns}\n",
    "    features = features.rename(index = str,columns = names)\n",
    "    return features\n",
    "    \n",
    "\n",
    "def parallel_apply_features(df):\n",
    "    \"\"\"Apply the 'apply_features\" function to a dataframe in parallel,\n",
    "    \n",
    "    Args:\n",
    "        df (pandas.DataFrame):  The dataframe to be proccessed.\n",
    "        \n",
    "    Returns:\n",
    "        pandas.DataFrame:  The processed dataframe.\n",
    "    \n",
    "    \"\"\"\n",
    "    ptm_pos = []\n",
    "    for pos in df.loc[:, \"p0\":\"p14\"].columns:\n",
    "        ptm_new = df[pos].apply(lambda x: apply_features(x, pos))\n",
    "        ptm_new = pd.concat(ptm_new.tolist())\n",
    "        ptm_new = ptm_new.reset_index().drop(columns = \"index\")\n",
    "        ptm_pos.append(ptm_new)\n",
    "    return pd.concat(ptm_pos, axis = 1)\n",
    "\n",
    "\n",
    "def find_smallest_df(df_list):\n",
    "    \"\"\"Return the number of rows from the smallest dataframe.\n",
    "    \n",
    "    Args:\n",
    "        df_list (list):  A list of pandas DataFrames.\n",
    "        \n",
    "    Returns:\n",
    "        smallest (int):  The number of rows from the smallest dataframe.\n",
    "    \"\"\"\n",
    "    smallest = 0\n",
    "    for d in df_list:\n",
    "        if smallest == 0:\n",
    "            smallest = d.shape[0]\n",
    "        if d.shape[0] < smallest:\n",
    "            smallest = d.shape[0]\n",
    "    return smallest\n",
    "\n",
    "\n",
    "def subset_dfs(df_list, smallest, random_state = 1234):\n",
    "    \"\"\"Subset all dataframes provided as a list using sampling.\n",
    "    \n",
    "    Args:\n",
    "        df_list (list):  A list of pandas DataFrames to subset.\n",
    "        smallest (int):  The number of rows to sample.\n",
    "        random_state(int):  The random state for sampling, [default: 1234].\n",
    "        \n",
    "    Returns:\n",
    "        all_subs (list):  A list of new sampled dataframes.\n",
    "    \n",
    "    \"\"\"\n",
    "    all_subs = []\n",
    "\n",
    "    for d in df_list:\n",
    "        if d.shape[0] != smallest:\n",
    "            all_subs.append(d.sample(n = smallest, random_state = random_state))\n",
    "        else:\n",
    "            all_subs.append(d)\n",
    "    return all_subs\n"
   ]
  },
  {
   "cell_type": "markdown",
   "metadata": {
    "slideshow": {
     "slide_type": "skip"
    }
   },
   "source": [
    "### 2. Loading the datasets"
   ]
  },
  {
   "cell_type": "code",
   "execution_count": 3,
   "metadata": {
    "scrolled": true,
    "slideshow": {
     "slide_type": "skip"
    }
   },
   "outputs": [
    {
     "name": "stdout",
     "output_type": "stream",
     "text": [
      "Acetylation:  (46540, 14)\n",
      "Phosphorylation:  (363255, 14)\n",
      "Ubiquitination  (70338, 14)\n",
      "Methylation:  (19742, 14)\n",
      "Sumoylation:  (7095, 14)\n",
      "O-GlcNAc:  (1583, 14)\n",
      "O-GalNAc:  (2122, 14)\n"
     ]
    },
    {
     "name": "stderr",
     "output_type": "stream",
     "text": [
      "/home/slandry/miniconda3/envs/e29/lib/python3.6/site-packages/IPython/core/interactiveshell.py:2728: DtypeWarning: Columns (13) have mixed types. Specify dtype option on import or set low_memory=False.\n",
      "  interactivity=interactivity, compiler=compiler, result=result)\n"
     ]
    }
   ],
   "source": [
    "acet = pd.read_csv(\"Acetylation_site_dataset\", sep = \"\\t\",  header = 2)\n",
    "print(\"Acetylation: \", acet.shape)\n",
    "#acet.head()\n",
    "\n",
    "phos = pd.read_csv(\"Phosphorylation_site_dataset\", sep = \"\\t\",  header = 2)\n",
    "#phos.head()\n",
    "print(\"Phosphorylation: \", phos.shape)\n",
    "\n",
    "ubi = pd.read_csv(\"Ubiquitination_site_dataset\", sep = \"\\t\",  header = 2)\n",
    "#ubi.head()\n",
    "print(\"Ubiquitination \", ubi.shape)\n",
    "\n",
    "meth = pd.read_csv(\"Methylation_site_dataset\", sep = \"\\t\",  header = 2)\n",
    "#meth.head()\n",
    "print(\"Methylation: \", meth.shape)\n",
    "\n",
    "sumo = pd.read_csv(\"Sumoylation_site_dataset\", sep = \"\\t\",  header = 2)\n",
    "#sumo.head()\n",
    "print(\"Sumoylation: \", sumo.shape)\n",
    "\n",
    "oglc = pd.read_csv(\"O-GlcNAc_site_dataset\", sep = \"\\t\",  header = 2)\n",
    "#oglc.head()\n",
    "print(\"O-GlcNAc: \", oglc.shape)\n",
    "\n",
    "ogal = pd.read_csv(\"O-GalNAc_site_dataset\", sep = \"\\t\",  header = 2)\n",
    "print(\"O-GalNAc: \", ogal.shape)\n",
    "#ogal.head()"
   ]
  },
  {
   "cell_type": "code",
   "execution_count": 4,
   "metadata": {
    "slideshow": {
     "slide_type": "slide"
    }
   },
   "outputs": [
    {
     "data": {
      "text/html": [
       "<div>\n",
       "<style scoped>\n",
       "    .dataframe tbody tr th:only-of-type {\n",
       "        vertical-align: middle;\n",
       "    }\n",
       "\n",
       "    .dataframe tbody tr th {\n",
       "        vertical-align: top;\n",
       "    }\n",
       "\n",
       "    .dataframe thead th {\n",
       "        text-align: right;\n",
       "    }\n",
       "</style>\n",
       "<table border=\"1\" class=\"dataframe\">\n",
       "  <thead>\n",
       "    <tr style=\"text-align: right;\">\n",
       "      <th></th>\n",
       "      <th>GENE</th>\n",
       "      <th>PROTEIN</th>\n",
       "      <th>ACC_ID</th>\n",
       "      <th>HU_CHR_LOC</th>\n",
       "      <th>MOD_RSD</th>\n",
       "      <th>SITE_GRP_ID</th>\n",
       "      <th>ORGANISM</th>\n",
       "      <th>MW_kD</th>\n",
       "      <th>DOMAIN</th>\n",
       "      <th>SITE_+/-7_AA</th>\n",
       "      <th>LT_LIT</th>\n",
       "      <th>MS_LIT</th>\n",
       "      <th>MS_CST</th>\n",
       "      <th>CST_CAT#</th>\n",
       "    </tr>\n",
       "  </thead>\n",
       "  <tbody>\n",
       "    <tr>\n",
       "      <th>0</th>\n",
       "      <td>1110035H17Rik</td>\n",
       "      <td>1110035H17Rik</td>\n",
       "      <td>Q9CTA4</td>\n",
       "      <td>7|7</td>\n",
       "      <td>S10-p</td>\n",
       "      <td>7231581</td>\n",
       "      <td>mouse</td>\n",
       "      <td>24.31</td>\n",
       "      <td>NaN</td>\n",
       "      <td>RPPPGSRstVAQSPP</td>\n",
       "      <td>NaN</td>\n",
       "      <td>1.0</td>\n",
       "      <td>NaN</td>\n",
       "      <td>NaN</td>\n",
       "    </tr>\n",
       "    <tr>\n",
       "      <th>1</th>\n",
       "      <td>1110035H17Rik</td>\n",
       "      <td>1110035H17Rik</td>\n",
       "      <td>Q9CTA4</td>\n",
       "      <td>7|7</td>\n",
       "      <td>T11-p</td>\n",
       "      <td>7231583</td>\n",
       "      <td>mouse</td>\n",
       "      <td>24.31</td>\n",
       "      <td>NaN</td>\n",
       "      <td>PPPGSRstVAQSPPQ</td>\n",
       "      <td>NaN</td>\n",
       "      <td>1.0</td>\n",
       "      <td>NaN</td>\n",
       "      <td>NaN</td>\n",
       "    </tr>\n",
       "    <tr>\n",
       "      <th>2</th>\n",
       "      <td>YWHAB</td>\n",
       "      <td>14-3-3 beta</td>\n",
       "      <td>P31946</td>\n",
       "      <td>20q13.12</td>\n",
       "      <td>T2-p</td>\n",
       "      <td>15718712</td>\n",
       "      <td>human</td>\n",
       "      <td>28.08</td>\n",
       "      <td>NaN</td>\n",
       "      <td>______MtMDksELV</td>\n",
       "      <td>NaN</td>\n",
       "      <td>3.0</td>\n",
       "      <td>1.0</td>\n",
       "      <td>NaN</td>\n",
       "    </tr>\n",
       "    <tr>\n",
       "      <th>3</th>\n",
       "      <td>Ywhab</td>\n",
       "      <td>14-3-3 beta</td>\n",
       "      <td>Q9CQV8</td>\n",
       "      <td>2|2 H3</td>\n",
       "      <td>T2-p</td>\n",
       "      <td>15718712</td>\n",
       "      <td>mouse</td>\n",
       "      <td>28.09</td>\n",
       "      <td>NaN</td>\n",
       "      <td>______MtMDksELV</td>\n",
       "      <td>NaN</td>\n",
       "      <td>2.0</td>\n",
       "      <td>NaN</td>\n",
       "      <td>NaN</td>\n",
       "    </tr>\n",
       "    <tr>\n",
       "      <th>4</th>\n",
       "      <td>YWHAB</td>\n",
       "      <td>14-3-3 beta</td>\n",
       "      <td>P31946</td>\n",
       "      <td>20q13.12</td>\n",
       "      <td>S6-p</td>\n",
       "      <td>15718709</td>\n",
       "      <td>human</td>\n",
       "      <td>28.08</td>\n",
       "      <td>NaN</td>\n",
       "      <td>__MtMDksELVQkAk</td>\n",
       "      <td>NaN</td>\n",
       "      <td>7.0</td>\n",
       "      <td>NaN</td>\n",
       "      <td>NaN</td>\n",
       "    </tr>\n",
       "  </tbody>\n",
       "</table>\n",
       "</div>"
      ],
      "text/plain": [
       "            GENE        PROTEIN  ACC_ID HU_CHR_LOC MOD_RSD  SITE_GRP_ID  \\\n",
       "0  1110035H17Rik  1110035H17Rik  Q9CTA4        7|7   S10-p      7231581   \n",
       "1  1110035H17Rik  1110035H17Rik  Q9CTA4        7|7   T11-p      7231583   \n",
       "2          YWHAB    14-3-3 beta  P31946   20q13.12    T2-p     15718712   \n",
       "3          Ywhab    14-3-3 beta  Q9CQV8     2|2 H3    T2-p     15718712   \n",
       "4          YWHAB    14-3-3 beta  P31946   20q13.12    S6-p     15718709   \n",
       "\n",
       "  ORGANISM  MW_kD DOMAIN     SITE_+/-7_AA  LT_LIT  MS_LIT  MS_CST CST_CAT#  \n",
       "0    mouse  24.31    NaN  RPPPGSRstVAQSPP     NaN     1.0     NaN      NaN  \n",
       "1    mouse  24.31    NaN  PPPGSRstVAQSPPQ     NaN     1.0     NaN      NaN  \n",
       "2    human  28.08    NaN  ______MtMDksELV     NaN     3.0     1.0      NaN  \n",
       "3    mouse  28.09    NaN  ______MtMDksELV     NaN     2.0     NaN      NaN  \n",
       "4    human  28.08    NaN  __MtMDksELVQkAk     NaN     7.0     NaN      NaN  "
      ]
     },
     "execution_count": 4,
     "metadata": {},
     "output_type": "execute_result"
    }
   ],
   "source": [
    "phos.head()"
   ]
  },
  {
   "cell_type": "markdown",
   "metadata": {
    "slideshow": {
     "slide_type": "slide"
    }
   },
   "source": [
    "### 3. Extract AA positions, label, sample, and concat"
   ]
  },
  {
   "cell_type": "code",
   "execution_count": 5,
   "metadata": {
    "slideshow": {
     "slide_type": "slide"
    }
   },
   "outputs": [
    {
     "name": "stdout",
     "output_type": "stream",
     "text": [
      "(10733, 19)\n"
     ]
    },
    {
     "data": {
      "text/html": [
       "<div>\n",
       "<style scoped>\n",
       "    .dataframe tbody tr th:only-of-type {\n",
       "        vertical-align: middle;\n",
       "    }\n",
       "\n",
       "    .dataframe tbody tr th {\n",
       "        vertical-align: top;\n",
       "    }\n",
       "\n",
       "    .dataframe thead th {\n",
       "        text-align: right;\n",
       "    }\n",
       "</style>\n",
       "<table border=\"1\" class=\"dataframe\">\n",
       "  <thead>\n",
       "    <tr style=\"text-align: right;\">\n",
       "      <th></th>\n",
       "      <th>ORGANISM</th>\n",
       "      <th>MW_kD</th>\n",
       "      <th>p0</th>\n",
       "      <th>p1</th>\n",
       "      <th>p2</th>\n",
       "      <th>p3</th>\n",
       "      <th>p4</th>\n",
       "      <th>p5</th>\n",
       "      <th>p6</th>\n",
       "      <th>p7</th>\n",
       "      <th>p8</th>\n",
       "      <th>p9</th>\n",
       "      <th>p10</th>\n",
       "      <th>p11</th>\n",
       "      <th>p12</th>\n",
       "      <th>p13</th>\n",
       "      <th>p14</th>\n",
       "      <th>ptm-aa</th>\n",
       "      <th>ptm-type</th>\n",
       "    </tr>\n",
       "  </thead>\n",
       "  <tbody>\n",
       "    <tr>\n",
       "      <th>29751</th>\n",
       "      <td>rat</td>\n",
       "      <td>152.82</td>\n",
       "      <td>G</td>\n",
       "      <td>G</td>\n",
       "      <td>G</td>\n",
       "      <td>G</td>\n",
       "      <td>G</td>\n",
       "      <td>G</td>\n",
       "      <td>G</td>\n",
       "      <td>K</td>\n",
       "      <td>I</td>\n",
       "      <td>R</td>\n",
       "      <td>T</td>\n",
       "      <td>R</td>\n",
       "      <td>R</td>\n",
       "      <td>C</td>\n",
       "      <td>H</td>\n",
       "      <td>K</td>\n",
       "      <td>acetylation</td>\n",
       "    </tr>\n",
       "    <tr>\n",
       "      <th>2458</th>\n",
       "      <td>human</td>\n",
       "      <td>21.63</td>\n",
       "      <td>V</td>\n",
       "      <td>G</td>\n",
       "      <td>G</td>\n",
       "      <td>P</td>\n",
       "      <td>G</td>\n",
       "      <td>S</td>\n",
       "      <td>G</td>\n",
       "      <td>K</td>\n",
       "      <td>G</td>\n",
       "      <td>T</td>\n",
       "      <td>Q</td>\n",
       "      <td>C</td>\n",
       "      <td>E</td>\n",
       "      <td>K</td>\n",
       "      <td>I</td>\n",
       "      <td>K</td>\n",
       "      <td>acetylation</td>\n",
       "    </tr>\n",
       "    <tr>\n",
       "      <th>21722</th>\n",
       "      <td>human</td>\n",
       "      <td>118.07</td>\n",
       "      <td>E</td>\n",
       "      <td>Y</td>\n",
       "      <td>E</td>\n",
       "      <td>D</td>\n",
       "      <td>S</td>\n",
       "      <td>S</td>\n",
       "      <td>T</td>\n",
       "      <td>K</td>\n",
       "      <td>P</td>\n",
       "      <td>P</td>\n",
       "      <td>K</td>\n",
       "      <td>S</td>\n",
       "      <td>R</td>\n",
       "      <td>R</td>\n",
       "      <td>K</td>\n",
       "      <td>K</td>\n",
       "      <td>acetylation</td>\n",
       "    </tr>\n",
       "    <tr>\n",
       "      <th>32893</th>\n",
       "      <td>human</td>\n",
       "      <td>37.92</td>\n",
       "      <td>Q</td>\n",
       "      <td>V</td>\n",
       "      <td>W</td>\n",
       "      <td>H</td>\n",
       "      <td>F</td>\n",
       "      <td>L</td>\n",
       "      <td>G</td>\n",
       "      <td>K</td>\n",
       "      <td>_</td>\n",
       "      <td>_</td>\n",
       "      <td>_</td>\n",
       "      <td>_</td>\n",
       "      <td>_</td>\n",
       "      <td>_</td>\n",
       "      <td>_</td>\n",
       "      <td>K</td>\n",
       "      <td>acetylation</td>\n",
       "    </tr>\n",
       "    <tr>\n",
       "      <th>35426</th>\n",
       "      <td>human</td>\n",
       "      <td>58.97</td>\n",
       "      <td>P</td>\n",
       "      <td>C</td>\n",
       "      <td>K</td>\n",
       "      <td>I</td>\n",
       "      <td>C</td>\n",
       "      <td>G</td>\n",
       "      <td>D</td>\n",
       "      <td>K</td>\n",
       "      <td>S</td>\n",
       "      <td>S</td>\n",
       "      <td>G</td>\n",
       "      <td>I</td>\n",
       "      <td>H</td>\n",
       "      <td>Y</td>\n",
       "      <td>G</td>\n",
       "      <td>K</td>\n",
       "      <td>acetylation</td>\n",
       "    </tr>\n",
       "  </tbody>\n",
       "</table>\n",
       "</div>"
      ],
      "text/plain": [
       "      ORGANISM   MW_kD p0 p1 p2 p3 p4 p5 p6 p7 p8 p9 p10 p11 p12 p13 p14  \\\n",
       "29751      rat  152.82  G  G  G  G  G  G  G  K  I  R   T   R   R   C   H   \n",
       "2458     human   21.63  V  G  G  P  G  S  G  K  G  T   Q   C   E   K   I   \n",
       "21722    human  118.07  E  Y  E  D  S  S  T  K  P  P   K   S   R   R   K   \n",
       "32893    human   37.92  Q  V  W  H  F  L  G  K  _  _   _   _   _   _   _   \n",
       "35426    human   58.97  P  C  K  I  C  G  D  K  S  S   G   I   H   Y   G   \n",
       "\n",
       "      ptm-aa     ptm-type  \n",
       "29751      K  acetylation  \n",
       "2458       K  acetylation  \n",
       "21722      K  acetylation  \n",
       "32893      K  acetylation  \n",
       "35426      K  acetylation  "
      ]
     },
     "execution_count": 5,
     "metadata": {},
     "output_type": "execute_result"
    }
   ],
   "source": [
    "## parse amino acid positions and label ptm types\n",
    "acet_f = parse_aa_positions(acet)\n",
    "acet_f['ptm-type'] = \"acetylation\"\n",
    "phos_f = parse_aa_positions(phos)\n",
    "phos_f['ptm-type'] = \"phosphorylation\"\n",
    "meth_f = parse_aa_positions(meth)\n",
    "meth_f['ptm-type'] = \"methylation\"\n",
    "ubi_f = parse_aa_positions(ubi)\n",
    "ubi_f['ptm-type'] = \"ubiquitination\"\n",
    "sumo_f = parse_aa_positions(sumo)\n",
    "sumo_f['ptm-type'] = \"sumoylation\"\n",
    "oglc_f = parse_aa_positions(oglc)\n",
    "oglc_f['ptm-type'] = \"O-GlcNAc\"\n",
    "ogal_f = parse_aa_positions(ogal)\n",
    "ogal_f['ptm-type'] = \"O-GalNAc\"\n",
    "\n",
    "all_ptms_list = [acet_f, phos_f, meth_f, ubi_f, sumo_f, oglc_f, ogal_f]\n",
    "\n",
    "## find smallest df\n",
    "smallest = find_smallest_df(all_ptms_list)\n",
    "\n",
    "## subset dfs\n",
    "all_ptms_sub = subset_dfs(all_ptms_list, smallest, random_state = 1234)\n",
    "\n",
    "## concat all dfs together\n",
    "all_ptms = pd.concat(all_ptms_sub)\n",
    "\n",
    "## drop all duplicate sequences, may observe many types of PTM on same sequence\n",
    "all_ptms = all_ptms.drop_duplicates(subset=[\"SITE_+/-7_AA\"])\n",
    "\n",
    "## get rid of some columns\n",
    "all_ptms = all_ptms.loc[:, \"ORGANISM\":\"ptm-type\"].drop(columns = [\"DOMAIN\",\"SITE_+/-7_AA\",\"LT_LIT\",\"MS_LIT\",\"MS_CST\",\"CST_CAT#\"])\n",
    "\n",
    "print(all_ptms.shape)\n",
    "all_ptms.head()"
   ]
  },
  {
   "cell_type": "code",
   "execution_count": 6,
   "metadata": {},
   "outputs": [
    {
     "data": {
      "text/plain": [
       "(10733, 19)"
      ]
     },
     "execution_count": 6,
     "metadata": {},
     "output_type": "execute_result"
    }
   ],
   "source": [
    "all_ptms.shape"
   ]
  },
  {
   "cell_type": "markdown",
   "metadata": {
    "slideshow": {
     "slide_type": "slide"
    }
   },
   "source": [
    "### 4. Retrieve data from wikipedia and pubchem"
   ]
  },
  {
   "cell_type": "markdown",
   "metadata": {
    "slideshow": {
     "slide_type": "skip"
    }
   },
   "source": [
    "The following table can be found on wikipedia.  It contains the amino acids and some physiochemical properties.  The features from this table are extracted an mapped to each positions of the 15 amino acid sequences in the datasets.\n",
    "\n",
    "https://en.wikipedia.org/wiki/Amino_acid"
   ]
  },
  {
   "cell_type": "markdown",
   "metadata": {
    "slideshow": {
     "slide_type": "slide"
    }
   },
   "source": [
    "![wiki-table](images/wikipedia-table.png)"
   ]
  },
  {
   "cell_type": "code",
   "execution_count": 7,
   "metadata": {
    "slideshow": {
     "slide_type": "skip"
    }
   },
   "outputs": [
    {
     "data": {
      "text/html": [
       "<div>\n",
       "<style scoped>\n",
       "    .dataframe tbody tr th:only-of-type {\n",
       "        vertical-align: middle;\n",
       "    }\n",
       "\n",
       "    .dataframe tbody tr th {\n",
       "        vertical-align: top;\n",
       "    }\n",
       "\n",
       "    .dataframe thead th {\n",
       "        text-align: right;\n",
       "    }\n",
       "</style>\n",
       "<table border=\"1\" class=\"dataframe\">\n",
       "  <thead>\n",
       "    <tr style=\"text-align: right;\">\n",
       "      <th></th>\n",
       "      <th>1-letter[136]</th>\n",
       "      <th>Side chain class</th>\n",
       "      <th>Side chain polarity[136]</th>\n",
       "      <th>Side chain charge (pH 7.4)[136]</th>\n",
       "      <th>Hydropathyindex[137]</th>\n",
       "      <th>MW (weight)</th>\n",
       "      <th>Occurrence in proteins (%)[139]</th>\n",
       "      <th>atom_stereo_count</th>\n",
       "      <th>complexity</th>\n",
       "      <th>rotatable_bond_count</th>\n",
       "      <th>xlogp</th>\n",
       "    </tr>\n",
       "  </thead>\n",
       "  <tbody>\n",
       "    <tr>\n",
       "      <th>0</th>\n",
       "      <td>A</td>\n",
       "      <td>aliphatic</td>\n",
       "      <td>nonpolar</td>\n",
       "      <td>neutral</td>\n",
       "      <td>1.8</td>\n",
       "      <td>89.094</td>\n",
       "      <td>8.76</td>\n",
       "      <td>1</td>\n",
       "      <td>61.8</td>\n",
       "      <td>1</td>\n",
       "      <td>-3.0</td>\n",
       "    </tr>\n",
       "    <tr>\n",
       "      <th>1</th>\n",
       "      <td>R</td>\n",
       "      <td>basic</td>\n",
       "      <td>basic polar</td>\n",
       "      <td>positive</td>\n",
       "      <td>-4.5</td>\n",
       "      <td>174.203</td>\n",
       "      <td>5.78</td>\n",
       "      <td>1</td>\n",
       "      <td>176.0</td>\n",
       "      <td>5</td>\n",
       "      <td>-4.2</td>\n",
       "    </tr>\n",
       "    <tr>\n",
       "      <th>2</th>\n",
       "      <td>N</td>\n",
       "      <td>amide</td>\n",
       "      <td>polar</td>\n",
       "      <td>neutral</td>\n",
       "      <td>-3.5</td>\n",
       "      <td>132.119</td>\n",
       "      <td>3.93</td>\n",
       "      <td>1</td>\n",
       "      <td>134.0</td>\n",
       "      <td>3</td>\n",
       "      <td>-3.4</td>\n",
       "    </tr>\n",
       "    <tr>\n",
       "      <th>3</th>\n",
       "      <td>D</td>\n",
       "      <td>acid</td>\n",
       "      <td>acidic polar</td>\n",
       "      <td>negative</td>\n",
       "      <td>-3.5</td>\n",
       "      <td>133.104</td>\n",
       "      <td>5.49</td>\n",
       "      <td>1</td>\n",
       "      <td>133.0</td>\n",
       "      <td>3</td>\n",
       "      <td>-2.8</td>\n",
       "    </tr>\n",
       "    <tr>\n",
       "      <th>4</th>\n",
       "      <td>C</td>\n",
       "      <td>sulfur-containing</td>\n",
       "      <td>nonpolar</td>\n",
       "      <td>neutral</td>\n",
       "      <td>2.5</td>\n",
       "      <td>121.154</td>\n",
       "      <td>1.38</td>\n",
       "      <td>1</td>\n",
       "      <td>75.3</td>\n",
       "      <td>2</td>\n",
       "      <td>-2.5</td>\n",
       "    </tr>\n",
       "  </tbody>\n",
       "</table>\n",
       "</div>"
      ],
      "text/plain": [
       "  1-letter[136]   Side chain class Side chain polarity[136]  \\\n",
       "0             A          aliphatic                 nonpolar   \n",
       "1             R              basic              basic polar   \n",
       "2             N              amide                    polar   \n",
       "3             D               acid             acidic polar   \n",
       "4             C  sulfur-containing                 nonpolar   \n",
       "\n",
       "  Side chain charge (pH 7.4)[136]  Hydropathyindex[137]  MW (weight)  \\\n",
       "0                         neutral                   1.8       89.094   \n",
       "1                        positive                  -4.5      174.203   \n",
       "2                         neutral                  -3.5      132.119   \n",
       "3                        negative                  -3.5      133.104   \n",
       "4                         neutral                   2.5      121.154   \n",
       "\n",
       "   Occurrence in proteins (%)[139]  atom_stereo_count  complexity  \\\n",
       "0                             8.76                  1        61.8   \n",
       "1                             5.78                  1       176.0   \n",
       "2                             3.93                  1       134.0   \n",
       "3                             5.49                  1       133.0   \n",
       "4                             1.38                  1        75.3   \n",
       "\n",
       "   rotatable_bond_count  xlogp  \n",
       "0                     1   -3.0  \n",
       "1                     5   -4.2  \n",
       "2                     3   -3.4  \n",
       "3                     3   -2.8  \n",
       "4                     2   -2.5  "
      ]
     },
     "execution_count": 7,
     "metadata": {},
     "output_type": "execute_result"
    }
   ],
   "source": [
    "## grab table from wikipedia\n",
    "wiki_aa_df = retrieve_wiki_aa_table(\"Amino acid\", 1)\n",
    "\n",
    "## query pubchem for more features\n",
    "pcp_aa_df = retrieve_pcp_compound(wiki_aa_df[\"Amino acid\"])\n",
    "\n",
    "## merge wikipedia table and pubchem\n",
    "aa_features = wiki_aa_df.merge(pcp_aa_df, on=\"Amino acid\")\n",
    "\n",
    "## drop some columns\n",
    "aa_features_slim = aa_features.drop(columns=[\"Amino acid\", \"3-letter[136]\", \"Coding in the Standard Genetic Code\", \"pcp-name\", \"Absorbance λmax(nm)[138]\", \"ε at λmax (mM−1 cm−1)[138]\"])\n",
    "\n",
    "## convert numeric features to float\n",
    "aa_features_slim[\"Hydropathyindex[137]\"] = aa_features_slim[\"Hydropathyindex[137]\"].apply(lambda x: x.replace(\"−\", \"-\")).astype(\"float\")\n",
    "aa_features_slim[\"MW (weight)\"] = aa_features_slim[\"MW (weight)\"].astype(\"float\")\n",
    "aa_features_slim[\"Occurrence in proteins (%)[139]\"] = aa_features_slim[\"Occurrence in proteins (%)[139]\"].astype(\"float\")\n",
    "\n",
    "aa_features_slim.head()"
   ]
  },
  {
   "cell_type": "code",
   "execution_count": 8,
   "metadata": {
    "slideshow": {
     "slide_type": "skip"
    }
   },
   "outputs": [],
   "source": [
    "## for testing\n",
    "#ptm_test = ptm_test.iloc[0:5, :].reset_index()"
   ]
  },
  {
   "cell_type": "code",
   "execution_count": 9,
   "metadata": {
    "slideshow": {
     "slide_type": "skip"
    }
   },
   "outputs": [
    {
     "name": "stdout",
     "output_type": "stream",
     "text": [
      "CPU times: user 2.5 s, sys: 105 ms, total: 2.6 s\n",
      "Wall time: 1min 24s\n"
     ]
    }
   ],
   "source": [
    "%%time\n",
    "ptms = all_ptms.copy().reset_index().drop(columns = [\"index\"])\n",
    "\n",
    "## exract amino acid properties/features for each position\n",
    "ptm_features = parallelize_dataframe(ptms, parallel_apply_features)\n",
    "\n",
    "## fill numerical NaN values with mean\n",
    "ptm_features = ptm_features.fillna(ptm_features.mean())\n",
    "\n",
    "## join wiki and pubchem features with phosphosite features\n",
    "ptm_features = ptms.join(ptm_features.reset_index()).drop(columns=[\"index\"])"
   ]
  },
  {
   "cell_type": "code",
   "execution_count": 10,
   "metadata": {
    "slideshow": {
     "slide_type": "slide"
    }
   },
   "outputs": [
    {
     "data": {
      "text/html": [
       "<div>\n",
       "<style scoped>\n",
       "    .dataframe tbody tr th:only-of-type {\n",
       "        vertical-align: middle;\n",
       "    }\n",
       "\n",
       "    .dataframe tbody tr th {\n",
       "        vertical-align: top;\n",
       "    }\n",
       "\n",
       "    .dataframe thead th {\n",
       "        text-align: right;\n",
       "    }\n",
       "</style>\n",
       "<table border=\"1\" class=\"dataframe\">\n",
       "  <thead>\n",
       "    <tr style=\"text-align: right;\">\n",
       "      <th></th>\n",
       "      <th>ORGANISM</th>\n",
       "      <th>MW_kD</th>\n",
       "      <th>p0</th>\n",
       "      <th>p1</th>\n",
       "      <th>p2</th>\n",
       "      <th>p3</th>\n",
       "      <th>p4</th>\n",
       "      <th>p5</th>\n",
       "      <th>p6</th>\n",
       "      <th>p7</th>\n",
       "      <th>...</th>\n",
       "      <th>p14-Side chain class</th>\n",
       "      <th>p14-Side chain polarity[136]</th>\n",
       "      <th>p14-Side chain charge (pH 7.4)[136]</th>\n",
       "      <th>p14-Hydropathyindex[137]</th>\n",
       "      <th>p14-MW (weight)</th>\n",
       "      <th>p14-Occurrence in proteins (%)[139]</th>\n",
       "      <th>p14-atom_stereo_count</th>\n",
       "      <th>p14-complexity</th>\n",
       "      <th>p14-rotatable_bond_count</th>\n",
       "      <th>p14-xlogp</th>\n",
       "    </tr>\n",
       "  </thead>\n",
       "  <tbody>\n",
       "    <tr>\n",
       "      <th>0</th>\n",
       "      <td>rat</td>\n",
       "      <td>152.82</td>\n",
       "      <td>G</td>\n",
       "      <td>G</td>\n",
       "      <td>G</td>\n",
       "      <td>G</td>\n",
       "      <td>G</td>\n",
       "      <td>G</td>\n",
       "      <td>G</td>\n",
       "      <td>K</td>\n",
       "      <td>...</td>\n",
       "      <td>basic aromatic</td>\n",
       "      <td>basic polar</td>\n",
       "      <td>positive(10%)neutral(90%)</td>\n",
       "      <td>-3.200000</td>\n",
       "      <td>155.15600</td>\n",
       "      <td>2.260000</td>\n",
       "      <td>1.0000</td>\n",
       "      <td>151.00000</td>\n",
       "      <td>3.000000</td>\n",
       "      <td>-3.200000</td>\n",
       "    </tr>\n",
       "    <tr>\n",
       "      <th>1</th>\n",
       "      <td>human</td>\n",
       "      <td>21.63</td>\n",
       "      <td>V</td>\n",
       "      <td>G</td>\n",
       "      <td>G</td>\n",
       "      <td>P</td>\n",
       "      <td>G</td>\n",
       "      <td>S</td>\n",
       "      <td>G</td>\n",
       "      <td>K</td>\n",
       "      <td>...</td>\n",
       "      <td>aliphatic</td>\n",
       "      <td>nonpolar</td>\n",
       "      <td>neutral</td>\n",
       "      <td>4.500000</td>\n",
       "      <td>131.17500</td>\n",
       "      <td>5.490000</td>\n",
       "      <td>2.0000</td>\n",
       "      <td>103.00000</td>\n",
       "      <td>3.000000</td>\n",
       "      <td>-1.700000</td>\n",
       "    </tr>\n",
       "    <tr>\n",
       "      <th>2</th>\n",
       "      <td>human</td>\n",
       "      <td>118.07</td>\n",
       "      <td>E</td>\n",
       "      <td>Y</td>\n",
       "      <td>E</td>\n",
       "      <td>D</td>\n",
       "      <td>S</td>\n",
       "      <td>S</td>\n",
       "      <td>T</td>\n",
       "      <td>K</td>\n",
       "      <td>...</td>\n",
       "      <td>basic</td>\n",
       "      <td>basic polar</td>\n",
       "      <td>positive</td>\n",
       "      <td>-3.900000</td>\n",
       "      <td>146.18900</td>\n",
       "      <td>5.190000</td>\n",
       "      <td>1.0000</td>\n",
       "      <td>106.00000</td>\n",
       "      <td>5.000000</td>\n",
       "      <td>-3.000000</td>\n",
       "    </tr>\n",
       "    <tr>\n",
       "      <th>3</th>\n",
       "      <td>human</td>\n",
       "      <td>37.92</td>\n",
       "      <td>Q</td>\n",
       "      <td>V</td>\n",
       "      <td>W</td>\n",
       "      <td>H</td>\n",
       "      <td>F</td>\n",
       "      <td>L</td>\n",
       "      <td>G</td>\n",
       "      <td>K</td>\n",
       "      <td>...</td>\n",
       "      <td>NaN</td>\n",
       "      <td>NaN</td>\n",
       "      <td>NaN</td>\n",
       "      <td>-0.675092</td>\n",
       "      <td>128.09529</td>\n",
       "      <td>5.926246</td>\n",
       "      <td>1.1019</td>\n",
       "      <td>115.76892</td>\n",
       "      <td>2.961433</td>\n",
       "      <td>-2.819227</td>\n",
       "    </tr>\n",
       "    <tr>\n",
       "      <th>4</th>\n",
       "      <td>human</td>\n",
       "      <td>58.97</td>\n",
       "      <td>P</td>\n",
       "      <td>C</td>\n",
       "      <td>K</td>\n",
       "      <td>I</td>\n",
       "      <td>C</td>\n",
       "      <td>G</td>\n",
       "      <td>D</td>\n",
       "      <td>K</td>\n",
       "      <td>...</td>\n",
       "      <td>aliphatic</td>\n",
       "      <td>nonpolar</td>\n",
       "      <td>neutral</td>\n",
       "      <td>-0.400000</td>\n",
       "      <td>75.06700</td>\n",
       "      <td>7.030000</td>\n",
       "      <td>1.0000</td>\n",
       "      <td>146.00000</td>\n",
       "      <td>4.000000</td>\n",
       "      <td>-3.100000</td>\n",
       "    </tr>\n",
       "  </tbody>\n",
       "</table>\n",
       "<p>5 rows × 169 columns</p>\n",
       "</div>"
      ],
      "text/plain": [
       "  ORGANISM   MW_kD p0 p1 p2 p3 p4 p5 p6 p7    ...    p14-Side chain class  \\\n",
       "0      rat  152.82  G  G  G  G  G  G  G  K    ...          basic aromatic   \n",
       "1    human   21.63  V  G  G  P  G  S  G  K    ...               aliphatic   \n",
       "2    human  118.07  E  Y  E  D  S  S  T  K    ...                   basic   \n",
       "3    human   37.92  Q  V  W  H  F  L  G  K    ...                     NaN   \n",
       "4    human   58.97  P  C  K  I  C  G  D  K    ...               aliphatic   \n",
       "\n",
       "  p14-Side chain polarity[136] p14-Side chain charge (pH 7.4)[136]  \\\n",
       "0                  basic polar           positive(10%)neutral(90%)   \n",
       "1                     nonpolar                             neutral   \n",
       "2                  basic polar                            positive   \n",
       "3                          NaN                                 NaN   \n",
       "4                     nonpolar                             neutral   \n",
       "\n",
       "  p14-Hydropathyindex[137] p14-MW (weight)  \\\n",
       "0                -3.200000       155.15600   \n",
       "1                 4.500000       131.17500   \n",
       "2                -3.900000       146.18900   \n",
       "3                -0.675092       128.09529   \n",
       "4                -0.400000        75.06700   \n",
       "\n",
       "  p14-Occurrence in proteins (%)[139] p14-atom_stereo_count p14-complexity  \\\n",
       "0                            2.260000                1.0000      151.00000   \n",
       "1                            5.490000                2.0000      103.00000   \n",
       "2                            5.190000                1.0000      106.00000   \n",
       "3                            5.926246                1.1019      115.76892   \n",
       "4                            7.030000                1.0000      146.00000   \n",
       "\n",
       "  p14-rotatable_bond_count p14-xlogp  \n",
       "0                 3.000000 -3.200000  \n",
       "1                 3.000000 -1.700000  \n",
       "2                 5.000000 -3.000000  \n",
       "3                 2.961433 -2.819227  \n",
       "4                 4.000000 -3.100000  \n",
       "\n",
       "[5 rows x 169 columns]"
      ]
     },
     "execution_count": 10,
     "metadata": {},
     "output_type": "execute_result"
    }
   ],
   "source": [
    "ptm_features.head()"
   ]
  },
  {
   "cell_type": "code",
   "execution_count": 11,
   "metadata": {
    "slideshow": {
     "slide_type": "slide"
    }
   },
   "outputs": [
    {
     "data": {
      "text/html": [
       "<div>\n",
       "<style scoped>\n",
       "    .dataframe tbody tr th:only-of-type {\n",
       "        vertical-align: middle;\n",
       "    }\n",
       "\n",
       "    .dataframe tbody tr th {\n",
       "        vertical-align: top;\n",
       "    }\n",
       "\n",
       "    .dataframe thead th {\n",
       "        text-align: right;\n",
       "    }\n",
       "</style>\n",
       "<table border=\"1\" class=\"dataframe\">\n",
       "  <thead>\n",
       "    <tr style=\"text-align: right;\">\n",
       "      <th></th>\n",
       "      <th>p0</th>\n",
       "      <th>p0-Side chain class</th>\n",
       "      <th>p0-Side chain polarity[136]</th>\n",
       "      <th>p0-Side chain charge (pH 7.4)[136]</th>\n",
       "      <th>p0-Hydropathyindex[137]</th>\n",
       "      <th>p0-MW (weight)</th>\n",
       "      <th>p0-Occurrence in proteins (%)[139]</th>\n",
       "      <th>p0-atom_stereo_count</th>\n",
       "      <th>p0-complexity</th>\n",
       "      <th>p0-rotatable_bond_count</th>\n",
       "      <th>p0-xlogp</th>\n",
       "    </tr>\n",
       "  </thead>\n",
       "  <tbody>\n",
       "    <tr>\n",
       "      <th>0</th>\n",
       "      <td>G</td>\n",
       "      <td>aliphatic</td>\n",
       "      <td>nonpolar</td>\n",
       "      <td>neutral</td>\n",
       "      <td>-0.4</td>\n",
       "      <td>75.067</td>\n",
       "      <td>7.03</td>\n",
       "      <td>1.0</td>\n",
       "      <td>146.0</td>\n",
       "      <td>4.0</td>\n",
       "      <td>-3.1</td>\n",
       "    </tr>\n",
       "    <tr>\n",
       "      <th>1</th>\n",
       "      <td>V</td>\n",
       "      <td>aliphatic</td>\n",
       "      <td>nonpolar</td>\n",
       "      <td>neutral</td>\n",
       "      <td>4.2</td>\n",
       "      <td>117.148</td>\n",
       "      <td>6.73</td>\n",
       "      <td>1.0</td>\n",
       "      <td>90.4</td>\n",
       "      <td>2.0</td>\n",
       "      <td>-2.3</td>\n",
       "    </tr>\n",
       "    <tr>\n",
       "      <th>2</th>\n",
       "      <td>E</td>\n",
       "      <td>acid</td>\n",
       "      <td>acidic polar</td>\n",
       "      <td>negative</td>\n",
       "      <td>-3.5</td>\n",
       "      <td>147.131</td>\n",
       "      <td>6.32</td>\n",
       "      <td>1.0</td>\n",
       "      <td>145.0</td>\n",
       "      <td>4.0</td>\n",
       "      <td>-3.7</td>\n",
       "    </tr>\n",
       "    <tr>\n",
       "      <th>3</th>\n",
       "      <td>Q</td>\n",
       "      <td>amide</td>\n",
       "      <td>polar</td>\n",
       "      <td>neutral</td>\n",
       "      <td>-3.5</td>\n",
       "      <td>146.146</td>\n",
       "      <td>3.90</td>\n",
       "      <td>1.0</td>\n",
       "      <td>146.0</td>\n",
       "      <td>4.0</td>\n",
       "      <td>-3.1</td>\n",
       "    </tr>\n",
       "    <tr>\n",
       "      <th>4</th>\n",
       "      <td>P</td>\n",
       "      <td>cyclic</td>\n",
       "      <td>nonpolar</td>\n",
       "      <td>neutral</td>\n",
       "      <td>-1.6</td>\n",
       "      <td>115.132</td>\n",
       "      <td>5.02</td>\n",
       "      <td>1.0</td>\n",
       "      <td>103.0</td>\n",
       "      <td>1.0</td>\n",
       "      <td>-2.5</td>\n",
       "    </tr>\n",
       "    <tr>\n",
       "      <th>5</th>\n",
       "      <td>N</td>\n",
       "      <td>amide</td>\n",
       "      <td>polar</td>\n",
       "      <td>neutral</td>\n",
       "      <td>-3.5</td>\n",
       "      <td>132.119</td>\n",
       "      <td>3.93</td>\n",
       "      <td>1.0</td>\n",
       "      <td>134.0</td>\n",
       "      <td>3.0</td>\n",
       "      <td>-3.4</td>\n",
       "    </tr>\n",
       "  </tbody>\n",
       "</table>\n",
       "</div>"
      ],
      "text/plain": [
       "  p0 p0-Side chain class p0-Side chain polarity[136]  \\\n",
       "0  G           aliphatic                    nonpolar   \n",
       "1  V           aliphatic                    nonpolar   \n",
       "2  E                acid                acidic polar   \n",
       "3  Q               amide                       polar   \n",
       "4  P              cyclic                    nonpolar   \n",
       "5  N               amide                       polar   \n",
       "\n",
       "  p0-Side chain charge (pH 7.4)[136]  p0-Hydropathyindex[137]  p0-MW (weight)  \\\n",
       "0                            neutral                     -0.4          75.067   \n",
       "1                            neutral                      4.2         117.148   \n",
       "2                           negative                     -3.5         147.131   \n",
       "3                            neutral                     -3.5         146.146   \n",
       "4                            neutral                     -1.6         115.132   \n",
       "5                            neutral                     -3.5         132.119   \n",
       "\n",
       "   p0-Occurrence in proteins (%)[139]  p0-atom_stereo_count  p0-complexity  \\\n",
       "0                                7.03                   1.0          146.0   \n",
       "1                                6.73                   1.0           90.4   \n",
       "2                                6.32                   1.0          145.0   \n",
       "3                                3.90                   1.0          146.0   \n",
       "4                                5.02                   1.0          103.0   \n",
       "5                                3.93                   1.0          134.0   \n",
       "\n",
       "   p0-rotatable_bond_count  p0-xlogp  \n",
       "0                      4.0      -3.1  \n",
       "1                      2.0      -2.3  \n",
       "2                      4.0      -3.7  \n",
       "3                      4.0      -3.1  \n",
       "4                      1.0      -2.5  \n",
       "5                      3.0      -3.4  "
      ]
     },
     "execution_count": 11,
     "metadata": {},
     "output_type": "execute_result"
    }
   ],
   "source": [
    "## showing features generated for an amino acid position\n",
    "aa_pos = \"p0\"\n",
    "p0 =[]\n",
    "for c in ptm_features.columns:\n",
    "    if aa_pos in c:\n",
    "        p0.append(c)\n",
    "            \n",
    "ptm_features.loc[0:5, p0]"
   ]
  },
  {
   "cell_type": "code",
   "execution_count": 12,
   "metadata": {
    "slideshow": {
     "slide_type": "skip"
    }
   },
   "outputs": [],
   "source": [
    "## break point\n",
    "ptm_features.to_csv(\"ptm_features.csv\")"
   ]
  },
  {
   "cell_type": "code",
   "execution_count": 13,
   "metadata": {
    "slideshow": {
     "slide_type": "skip"
    }
   },
   "outputs": [],
   "source": [
    "ptm_features = pd.read_csv(\"ptm_features.csv\", index_col=0)"
   ]
  },
  {
   "cell_type": "code",
   "execution_count": 14,
   "metadata": {
    "slideshow": {
     "slide_type": "skip"
    }
   },
   "outputs": [
    {
     "data": {
      "text/html": [
       "<div>\n",
       "<style scoped>\n",
       "    .dataframe tbody tr th:only-of-type {\n",
       "        vertical-align: middle;\n",
       "    }\n",
       "\n",
       "    .dataframe tbody tr th {\n",
       "        vertical-align: top;\n",
       "    }\n",
       "\n",
       "    .dataframe thead th {\n",
       "        text-align: right;\n",
       "    }\n",
       "</style>\n",
       "<table border=\"1\" class=\"dataframe\">\n",
       "  <thead>\n",
       "    <tr style=\"text-align: right;\">\n",
       "      <th></th>\n",
       "      <th>ORGANISM</th>\n",
       "      <th>MW_kD</th>\n",
       "      <th>p0</th>\n",
       "      <th>p1</th>\n",
       "      <th>p2</th>\n",
       "      <th>p3</th>\n",
       "      <th>p4</th>\n",
       "      <th>p5</th>\n",
       "      <th>p6</th>\n",
       "      <th>p7</th>\n",
       "      <th>...</th>\n",
       "      <th>p14-Side chain class</th>\n",
       "      <th>p14-Side chain polarity[136]</th>\n",
       "      <th>p14-Side chain charge (pH 7.4)[136]</th>\n",
       "      <th>p14-Hydropathyindex[137]</th>\n",
       "      <th>p14-MW (weight)</th>\n",
       "      <th>p14-Occurrence in proteins (%)[139]</th>\n",
       "      <th>p14-atom_stereo_count</th>\n",
       "      <th>p14-complexity</th>\n",
       "      <th>p14-rotatable_bond_count</th>\n",
       "      <th>p14-xlogp</th>\n",
       "    </tr>\n",
       "  </thead>\n",
       "  <tbody>\n",
       "    <tr>\n",
       "      <th>0</th>\n",
       "      <td>rat</td>\n",
       "      <td>152.82</td>\n",
       "      <td>G</td>\n",
       "      <td>G</td>\n",
       "      <td>G</td>\n",
       "      <td>G</td>\n",
       "      <td>G</td>\n",
       "      <td>G</td>\n",
       "      <td>G</td>\n",
       "      <td>K</td>\n",
       "      <td>...</td>\n",
       "      <td>basic aromatic</td>\n",
       "      <td>basic polar</td>\n",
       "      <td>positive(10%)neutral(90%)</td>\n",
       "      <td>-3.200000</td>\n",
       "      <td>155.15600</td>\n",
       "      <td>2.260000</td>\n",
       "      <td>1.0000</td>\n",
       "      <td>151.00000</td>\n",
       "      <td>3.000000</td>\n",
       "      <td>-3.200000</td>\n",
       "    </tr>\n",
       "    <tr>\n",
       "      <th>1</th>\n",
       "      <td>human</td>\n",
       "      <td>21.63</td>\n",
       "      <td>V</td>\n",
       "      <td>G</td>\n",
       "      <td>G</td>\n",
       "      <td>P</td>\n",
       "      <td>G</td>\n",
       "      <td>S</td>\n",
       "      <td>G</td>\n",
       "      <td>K</td>\n",
       "      <td>...</td>\n",
       "      <td>aliphatic</td>\n",
       "      <td>nonpolar</td>\n",
       "      <td>neutral</td>\n",
       "      <td>4.500000</td>\n",
       "      <td>131.17500</td>\n",
       "      <td>5.490000</td>\n",
       "      <td>2.0000</td>\n",
       "      <td>103.00000</td>\n",
       "      <td>3.000000</td>\n",
       "      <td>-1.700000</td>\n",
       "    </tr>\n",
       "    <tr>\n",
       "      <th>2</th>\n",
       "      <td>human</td>\n",
       "      <td>118.07</td>\n",
       "      <td>E</td>\n",
       "      <td>Y</td>\n",
       "      <td>E</td>\n",
       "      <td>D</td>\n",
       "      <td>S</td>\n",
       "      <td>S</td>\n",
       "      <td>T</td>\n",
       "      <td>K</td>\n",
       "      <td>...</td>\n",
       "      <td>basic</td>\n",
       "      <td>basic polar</td>\n",
       "      <td>positive</td>\n",
       "      <td>-3.900000</td>\n",
       "      <td>146.18900</td>\n",
       "      <td>5.190000</td>\n",
       "      <td>1.0000</td>\n",
       "      <td>106.00000</td>\n",
       "      <td>5.000000</td>\n",
       "      <td>-3.000000</td>\n",
       "    </tr>\n",
       "    <tr>\n",
       "      <th>3</th>\n",
       "      <td>human</td>\n",
       "      <td>37.92</td>\n",
       "      <td>Q</td>\n",
       "      <td>V</td>\n",
       "      <td>W</td>\n",
       "      <td>H</td>\n",
       "      <td>F</td>\n",
       "      <td>L</td>\n",
       "      <td>G</td>\n",
       "      <td>K</td>\n",
       "      <td>...</td>\n",
       "      <td>NaN</td>\n",
       "      <td>NaN</td>\n",
       "      <td>NaN</td>\n",
       "      <td>-0.675092</td>\n",
       "      <td>128.09529</td>\n",
       "      <td>5.926246</td>\n",
       "      <td>1.1019</td>\n",
       "      <td>115.76892</td>\n",
       "      <td>2.961433</td>\n",
       "      <td>-2.819227</td>\n",
       "    </tr>\n",
       "    <tr>\n",
       "      <th>4</th>\n",
       "      <td>human</td>\n",
       "      <td>58.97</td>\n",
       "      <td>P</td>\n",
       "      <td>C</td>\n",
       "      <td>K</td>\n",
       "      <td>I</td>\n",
       "      <td>C</td>\n",
       "      <td>G</td>\n",
       "      <td>D</td>\n",
       "      <td>K</td>\n",
       "      <td>...</td>\n",
       "      <td>aliphatic</td>\n",
       "      <td>nonpolar</td>\n",
       "      <td>neutral</td>\n",
       "      <td>-0.400000</td>\n",
       "      <td>75.06700</td>\n",
       "      <td>7.030000</td>\n",
       "      <td>1.0000</td>\n",
       "      <td>146.00000</td>\n",
       "      <td>4.000000</td>\n",
       "      <td>-3.100000</td>\n",
       "    </tr>\n",
       "  </tbody>\n",
       "</table>\n",
       "<p>5 rows × 169 columns</p>\n",
       "</div>"
      ],
      "text/plain": [
       "  ORGANISM   MW_kD p0 p1 p2 p3 p4 p5 p6 p7    ...    p14-Side chain class  \\\n",
       "0      rat  152.82  G  G  G  G  G  G  G  K    ...          basic aromatic   \n",
       "1    human   21.63  V  G  G  P  G  S  G  K    ...               aliphatic   \n",
       "2    human  118.07  E  Y  E  D  S  S  T  K    ...                   basic   \n",
       "3    human   37.92  Q  V  W  H  F  L  G  K    ...                     NaN   \n",
       "4    human   58.97  P  C  K  I  C  G  D  K    ...               aliphatic   \n",
       "\n",
       "  p14-Side chain polarity[136] p14-Side chain charge (pH 7.4)[136]  \\\n",
       "0                  basic polar           positive(10%)neutral(90%)   \n",
       "1                     nonpolar                             neutral   \n",
       "2                  basic polar                            positive   \n",
       "3                          NaN                                 NaN   \n",
       "4                     nonpolar                             neutral   \n",
       "\n",
       "  p14-Hydropathyindex[137] p14-MW (weight)  \\\n",
       "0                -3.200000       155.15600   \n",
       "1                 4.500000       131.17500   \n",
       "2                -3.900000       146.18900   \n",
       "3                -0.675092       128.09529   \n",
       "4                -0.400000        75.06700   \n",
       "\n",
       "  p14-Occurrence in proteins (%)[139] p14-atom_stereo_count p14-complexity  \\\n",
       "0                            2.260000                1.0000      151.00000   \n",
       "1                            5.490000                2.0000      103.00000   \n",
       "2                            5.190000                1.0000      106.00000   \n",
       "3                            5.926246                1.1019      115.76892   \n",
       "4                            7.030000                1.0000      146.00000   \n",
       "\n",
       "  p14-rotatable_bond_count p14-xlogp  \n",
       "0                 3.000000 -3.200000  \n",
       "1                 3.000000 -1.700000  \n",
       "2                 5.000000 -3.000000  \n",
       "3                 2.961433 -2.819227  \n",
       "4                 4.000000 -3.100000  \n",
       "\n",
       "[5 rows x 169 columns]"
      ]
     },
     "execution_count": 14,
     "metadata": {},
     "output_type": "execute_result"
    }
   ],
   "source": [
    "ptm_features.head()"
   ]
  },
  {
   "cell_type": "code",
   "execution_count": 15,
   "metadata": {
    "slideshow": {
     "slide_type": "skip"
    }
   },
   "outputs": [],
   "source": [
    "## full feature list\n",
    "\n",
    "categorical = ['ORGANISM',\n",
    "               'p0',\n",
    "               'p1',\n",
    "               'p2',\n",
    "               'p3',\n",
    "               'p4',\n",
    "               'p5',\n",
    "               'p6',\n",
    "               'p7',\n",
    "               'p8',\n",
    "               'p9',\n",
    "               'p10',\n",
    "               'p11',\n",
    "               'p12',\n",
    "               'p13',\n",
    "               'p14',\n",
    "               'ptm-aa',\n",
    "               'ptm-type',\n",
    "               'p0-Side chain class',\n",
    "               'p0-Side chain polarity[136]',\n",
    "               'p0-Side chain charge (pH 7.4)[136]',\n",
    "               'p1-Side chain class',\n",
    "               'p1-Side chain polarity[136]',\n",
    "               'p1-Side chain charge (pH 7.4)[136]',\n",
    "               'p2-Side chain class',\n",
    "               'p2-Side chain polarity[136]',\n",
    "               'p2-Side chain charge (pH 7.4)[136]',\n",
    "               'p3-Side chain class',\n",
    "               'p3-Side chain polarity[136]',\n",
    "               'p3-Side chain charge (pH 7.4)[136]',\n",
    "               'p4-Side chain class',\n",
    "               'p4-Side chain polarity[136]',\n",
    "               'p4-Side chain charge (pH 7.4)[136]',\n",
    "               'p5-Side chain class',\n",
    "               'p5-Side chain polarity[136]',\n",
    "               'p5-Side chain charge (pH 7.4)[136]',\n",
    "               'p6-Side chain class',\n",
    "               'p6-Side chain polarity[136]',\n",
    "               'p6-Side chain charge (pH 7.4)[136]',\n",
    "               'p7-Side chain class',\n",
    "               'p7-Side chain polarity[136]',\n",
    "               'p7-Side chain charge (pH 7.4)[136]',\n",
    "               'p8-Side chain class',\n",
    "               'p8-Side chain polarity[136]',\n",
    "               'p8-Side chain charge (pH 7.4)[136]',\n",
    "               'p9-Side chain class',\n",
    "               'p9-Side chain polarity[136]',\n",
    "               'p9-Side chain charge (pH 7.4)[136]',\n",
    "               'p10-Side chain class',\n",
    "               'p10-Side chain polarity[136]',\n",
    "               'p10-Side chain charge (pH 7.4)[136]',\n",
    "               'p11-Side chain class',\n",
    "               'p11-Side chain polarity[136]',\n",
    "               'p11-Side chain charge (pH 7.4)[136]',\n",
    "               'p12-Side chain class',\n",
    "               'p12-Side chain polarity[136]',\n",
    "               'p12-Side chain charge (pH 7.4)[136]',\n",
    "               'p13-Side chain class',\n",
    "               'p13-Side chain polarity[136]',\n",
    "               'p13-Side chain charge (pH 7.4)[136]',\n",
    "               'p14-Side chain class',\n",
    "               'p14-Side chain polarity[136]',\n",
    "               'p14-Side chain charge (pH 7.4)[136]']\n",
    "\n",
    "numerical = ['MW_kD',\n",
    " 'p0-Hydropathyindex[137]',\n",
    " 'p0-MW (weight)',\n",
    " 'p0-Occurrence in proteins (%)[139]',\n",
    " 'p0-atom_stereo_count',\n",
    " 'p0-complexity',\n",
    " 'p0-rotatable_bond_count',\n",
    " 'p0-xlogp',\n",
    " 'p1-Hydropathyindex[137]',\n",
    " 'p1-MW (weight)',\n",
    " 'p1-Occurrence in proteins (%)[139]',\n",
    " 'p1-atom_stereo_count',\n",
    " 'p1-complexity',\n",
    " 'p1-rotatable_bond_count',\n",
    " 'p1-xlogp',\n",
    " 'p2-Hydropathyindex[137]',\n",
    " 'p2-MW (weight)',\n",
    " 'p2-Occurrence in proteins (%)[139]',\n",
    " 'p2-atom_stereo_count',\n",
    " 'p2-complexity',\n",
    " 'p2-rotatable_bond_count',\n",
    " 'p2-xlogp',\n",
    " 'p3-Hydropathyindex[137]',\n",
    " 'p3-MW (weight)',\n",
    " 'p3-Occurrence in proteins (%)[139]',\n",
    " 'p3-atom_stereo_count',\n",
    " 'p3-complexity',\n",
    " 'p3-rotatable_bond_count',\n",
    " 'p3-xlogp',\n",
    " 'p4-Hydropathyindex[137]',\n",
    " 'p4-MW (weight)',\n",
    " 'p4-Occurrence in proteins (%)[139]',\n",
    " 'p4-atom_stereo_count',\n",
    " 'p4-complexity',\n",
    " 'p4-rotatable_bond_count',\n",
    " 'p4-xlogp',\n",
    " 'p5-Hydropathyindex[137]',\n",
    " 'p5-MW (weight)',\n",
    " 'p5-Occurrence in proteins (%)[139]',\n",
    " 'p5-atom_stereo_count',\n",
    " 'p5-complexity',\n",
    " 'p5-rotatable_bond_count',\n",
    " 'p5-xlogp',\n",
    " 'p6-Hydropathyindex[137]',\n",
    " 'p6-MW (weight)',\n",
    " 'p6-Occurrence in proteins (%)[139]',\n",
    " 'p6-atom_stereo_count',\n",
    " 'p6-complexity',\n",
    " 'p6-rotatable_bond_count',\n",
    " 'p6-xlogp',\n",
    " 'p7-Hydropathyindex[137]',\n",
    " 'p7-MW (weight)',\n",
    " 'p7-Occurrence in proteins (%)[139]',\n",
    " 'p7-atom_stereo_count',\n",
    " 'p7-complexity',\n",
    " 'p7-rotatable_bond_count',\n",
    " 'p7-xlogp',\n",
    " 'p8-Hydropathyindex[137]',\n",
    " 'p8-MW (weight)',\n",
    " 'p8-Occurrence in proteins (%)[139]',\n",
    " 'p8-atom_stereo_count',\n",
    " 'p8-complexity',\n",
    " 'p8-rotatable_bond_count',\n",
    " 'p8-xlogp',\n",
    " 'p9-Hydropathyindex[137]',\n",
    " 'p9-MW (weight)',\n",
    " 'p9-Occurrence in proteins (%)[139]',\n",
    " 'p9-atom_stereo_count',\n",
    " 'p9-complexity',\n",
    " 'p9-rotatable_bond_count',\n",
    " 'p9-xlogp',\n",
    " 'p10-Hydropathyindex[137]',\n",
    " 'p10-MW (weight)',\n",
    " 'p10-Occurrence in proteins (%)[139]',\n",
    " 'p10-atom_stereo_count',\n",
    " 'p10-complexity',\n",
    " 'p10-rotatable_bond_count',\n",
    " 'p10-xlogp',\n",
    " 'p11-Hydropathyindex[137]',\n",
    " 'p11-MW (weight)',\n",
    " 'p11-Occurrence in proteins (%)[139]',\n",
    " 'p11-atom_stereo_count',\n",
    " 'p11-complexity',\n",
    " 'p11-rotatable_bond_count',\n",
    " 'p11-xlogp',\n",
    " 'p12-Hydropathyindex[137]',\n",
    " 'p12-MW (weight)',\n",
    " 'p12-Occurrence in proteins (%)[139]',\n",
    " 'p12-atom_stereo_count',\n",
    " 'p12-complexity',\n",
    " 'p12-rotatable_bond_count',\n",
    " 'p12-xlogp',\n",
    " 'p13-Hydropathyindex[137]',\n",
    " 'p13-MW (weight)',\n",
    " 'p13-Occurrence in proteins (%)[139]',\n",
    " 'p13-atom_stereo_count',\n",
    " 'p13-complexity',\n",
    " 'p13-rotatable_bond_count',\n",
    " 'p13-xlogp',\n",
    " 'p14-Hydropathyindex[137]',\n",
    " 'p14-MW (weight)',\n",
    " 'p14-Occurrence in proteins (%)[139]',\n",
    " 'p14-atom_stereo_count',\n",
    " 'p14-complexity',\n",
    " 'p14-rotatable_bond_count',\n",
    " 'p14-xlogp']"
   ]
  },
  {
   "cell_type": "markdown",
   "metadata": {
    "slideshow": {
     "slide_type": "skip"
    }
   },
   "source": [
    "### 5. Prepare data for models (one hot encoding, train, test, split, etc...)"
   ]
  },
  {
   "cell_type": "code",
   "execution_count": 16,
   "metadata": {
    "slideshow": {
     "slide_type": "skip"
    }
   },
   "outputs": [],
   "source": [
    "## targets\n",
    "ptm_model_target = ptm_features[\"ptm-type\"]\n",
    "\n",
    "## apply one hot encoding to categorical features\n",
    "ptm_categorical_onehot = pd.get_dummies(ptm_features[categorical].drop(columns = \"ptm-type\"))\n",
    "\n",
    "## join one hot encoded variables with numerical features\n",
    "ptm_model_features = ptm_categorical_onehot.join(ptm_features[numerical])\n",
    "\n",
    "## apply standard scalar to features to bring mean to 0 and variance to 1,\n",
    "scaler = StandardScaler()\n",
    "ptm_model_features_scaled = scaler.fit_transform(ptm_model_features)\n",
    "\n",
    "## split into train and test sets\n",
    "X_train, X_test, y_train, y_test = train_test_split(ptm_model_features_scaled, ptm_model_target, test_size=.4, random_state=42)"
   ]
  },
  {
   "cell_type": "code",
   "execution_count": 17,
   "metadata": {
    "slideshow": {
     "slide_type": "fragment"
    }
   },
   "outputs": [
    {
     "data": {
      "text/plain": [
       "(10733, 671)"
      ]
     },
     "execution_count": 17,
     "metadata": {},
     "output_type": "execute_result"
    }
   ],
   "source": [
    "ptm_model_features_scaled.shape"
   ]
  },
  {
   "cell_type": "markdown",
   "metadata": {
    "slideshow": {
     "slide_type": "slide"
    }
   },
   "source": [
    "## The Models\n",
    "\n",
    "1. PCA\n",
    "2. PCA & SVC pipeline\n",
    "3. RandomForestClassifier"
   ]
  },
  {
   "cell_type": "markdown",
   "metadata": {
    "slideshow": {
     "slide_type": "slide"
    }
   },
   "source": [
    "### PCA"
   ]
  },
  {
   "cell_type": "markdown",
   "metadata": {
    "slideshow": {
     "slide_type": "skip"
    }
   },
   "source": [
    "First, principal component analysis is applied in an effort to reduce the number of dimensions in the dataset.  The 'explained variance' vs '# of components' is plotted to utilize the 'elbow' rule to estimate the number of components to include in classification."
   ]
  },
  {
   "cell_type": "code",
   "execution_count": 18,
   "metadata": {
    "slideshow": {
     "slide_type": "fragment"
    }
   },
   "outputs": [
    {
     "data": {
      "text/plain": [
       "PCA(copy=True, iterated_power='auto', n_components=None, random_state=None,\n",
       "  svd_solver='auto', tol=0.0, whiten=False)"
      ]
     },
     "execution_count": 18,
     "metadata": {},
     "output_type": "execute_result"
    }
   ],
   "source": [
    "## Reference --> Lecture April 11b,2018 PCA\n",
    "pca = PCA()\n",
    "\n",
    "# Fitting the model with features\n",
    "pca.fit(ptm_model_features_scaled)"
   ]
  },
  {
   "cell_type": "code",
   "execution_count": 19,
   "metadata": {
    "slideshow": {
     "slide_type": "skip"
    }
   },
   "outputs": [
    {
     "name": "stdout",
     "output_type": "stream",
     "text": [
      "Principal components:\n",
      " [[-1.08501867e-03  3.54796262e-03  1.53229443e-03 ... -2.87663005e-02\n",
      "  -3.83554235e-02  1.06807874e-03]\n",
      " [ 2.35206785e-03  9.94798968e-04  4.55457522e-03 ... -5.30856355e-02\n",
      "  -5.19784853e-02  2.74313405e-02]\n",
      " [ 6.55749806e-03  7.40724977e-03  5.51134362e-03 ...  2.89558758e-02\n",
      "   4.74663183e-02 -3.28343255e-02]\n",
      " ...\n",
      " [-0.00000000e+00 -4.80266549e-17 -1.48699465e-16 ... -2.16372505e-03\n",
      "  -3.16395865e-02 -2.66992182e-02]\n",
      " [-0.00000000e+00 -1.40429008e-17  2.74841868e-17 ... -3.77478130e-03\n",
      "  -2.30621427e-02 -8.10579637e-03]\n",
      " [ 0.00000000e+00  1.18828558e-16  6.99895173e-18 ... -8.91178400e-03\n",
      "   2.02117741e-02  2.07657636e-02]] \n",
      "\n",
      "Variance explained:\n",
      " [1.56397634e+01 1.04869634e+01 9.23936381e+00 8.73431981e+00\n",
      " 8.41826525e+00 8.07555237e+00 7.93111874e+00 7.88316326e+00\n",
      " 7.70968378e+00 7.62221752e+00 7.51376032e+00 7.44111713e+00\n",
      " 7.36822728e+00 7.19318070e+00 7.08000085e+00 6.25698872e+00\n",
      " 5.69454244e+00 5.49135035e+00 5.36353453e+00 5.20692914e+00\n",
      " 5.12711804e+00 5.03897813e+00 4.89139733e+00 4.80479693e+00\n",
      " 4.71240565e+00 4.67792054e+00 4.57143092e+00 4.48026859e+00\n",
      " 4.45699983e+00 4.43141329e+00 4.38856790e+00 4.38036564e+00\n",
      " 4.34091652e+00 4.28540533e+00 4.26139776e+00 4.25069805e+00\n",
      " 4.19560052e+00 4.17141933e+00 4.13325144e+00 4.09649916e+00\n",
      " 4.08130826e+00 4.03376826e+00 4.00387178e+00 3.96987501e+00\n",
      " 3.95451553e+00 3.93143480e+00 3.90092153e+00 3.88154097e+00\n",
      " 3.85591169e+00 3.81030275e+00 3.76269699e+00 3.66856589e+00\n",
      " 3.55914452e+00 3.55743143e+00 3.50891548e+00 3.50350373e+00\n",
      " 3.47036823e+00 3.45564812e+00 3.42378742e+00 3.34088496e+00\n",
      " 3.31854085e+00 3.30815586e+00 3.27814811e+00 3.27472455e+00\n",
      " 3.26106778e+00 3.20775469e+00 3.17665663e+00 3.15193121e+00\n",
      " 3.10096557e+00 3.08482782e+00 3.06076853e+00 3.04568422e+00\n",
      " 3.00407387e+00 2.98979115e+00 2.95401100e+00 2.92720124e+00\n",
      " 2.88686037e+00 2.83998481e+00 2.81026860e+00 2.77458925e+00\n",
      " 2.75089287e+00 2.65036793e+00 2.64168421e+00 2.62793043e+00\n",
      " 2.61979722e+00 2.59313813e+00 2.54679240e+00 2.53013437e+00\n",
      " 2.52447654e+00 2.51562044e+00 2.50007409e+00 2.47071211e+00\n",
      " 2.45503554e+00 2.41660598e+00 2.40840977e+00 2.38778066e+00\n",
      " 2.38389942e+00 2.37848163e+00 2.36165342e+00 2.32898911e+00\n",
      " 2.32188185e+00 2.31661312e+00 2.28152650e+00 2.27197557e+00\n",
      " 2.26156616e+00 2.23983467e+00 2.23472580e+00 2.20482052e+00\n",
      " 2.18698930e+00 2.15541633e+00 2.14426607e+00 2.13312822e+00\n",
      " 2.11222366e+00 2.10206484e+00 2.06842397e+00 2.06010012e+00\n",
      " 2.02031664e+00 2.00312967e+00 1.97798560e+00 1.97357295e+00\n",
      " 1.94043427e+00 1.89686156e+00 1.89314604e+00 1.88577078e+00\n",
      " 1.85117445e+00 1.83825936e+00 1.82737490e+00 1.80182070e+00\n",
      " 1.78823678e+00 1.77187766e+00 1.75976661e+00 1.74373345e+00\n",
      " 1.73836512e+00 1.70408809e+00 1.69559326e+00 1.66515235e+00\n",
      " 1.61259088e+00 1.58865074e+00 1.57888128e+00 1.56378200e+00\n",
      " 1.55244934e+00 1.53823673e+00 1.52872647e+00 1.51928406e+00\n",
      " 1.51224398e+00 1.49023486e+00 1.48557567e+00 1.47277219e+00\n",
      " 1.46622235e+00 1.45243168e+00 1.43629540e+00 1.41431898e+00\n",
      " 1.40905364e+00 1.40113210e+00 1.38332880e+00 1.36907266e+00\n",
      " 1.36633647e+00 1.35720621e+00 1.34605797e+00 1.32911894e+00\n",
      " 1.32398310e+00 1.31818088e+00 1.31502324e+00 1.30734104e+00\n",
      " 1.29676544e+00 1.29040969e+00 1.28044855e+00 1.27574871e+00\n",
      " 1.26918927e+00 1.25873435e+00 1.25107730e+00 1.24163374e+00\n",
      " 1.23890522e+00 1.23160980e+00 1.22739820e+00 1.22276746e+00\n",
      " 1.21552850e+00 1.21281241e+00 1.20527031e+00 1.19656093e+00\n",
      " 1.19292576e+00 1.18614225e+00 1.18270708e+00 1.17494448e+00\n",
      " 1.16793187e+00 1.16459394e+00 1.15798154e+00 1.15586698e+00\n",
      " 1.15329239e+00 1.14928896e+00 1.14749674e+00 1.13945356e+00\n",
      " 1.13733250e+00 1.13177527e+00 1.13026306e+00 1.12579118e+00\n",
      " 1.12080807e+00 1.11937761e+00 1.11416622e+00 1.10704964e+00\n",
      " 1.10526991e+00 1.10197997e+00 1.09863021e+00 1.09568145e+00\n",
      " 1.09440918e+00 1.08860780e+00 1.08443161e+00 1.08110297e+00\n",
      " 1.07575624e+00 1.07530713e+00 1.07021692e+00 1.06654899e+00\n",
      " 1.06197279e+00 1.05707498e+00 1.05338551e+00 1.04949140e+00\n",
      " 1.04613121e+00 1.04512419e+00 1.04242972e+00 1.03462686e+00\n",
      " 1.03273514e+00 1.03137113e+00 1.02938864e+00 1.02717669e+00\n",
      " 1.02579387e+00 1.02290599e+00 1.01950627e+00 1.01519571e+00\n",
      " 1.01238147e+00 1.00996064e+00 1.00588377e+00 1.00240014e+00\n",
      " 9.97799698e-01 9.96551855e-01 9.93179558e-01 9.90267184e-01\n",
      " 9.87660191e-01 9.82284070e-01 9.79279466e-01 9.77105124e-01\n",
      " 9.72661788e-01 9.68344286e-01 9.64600943e-01 9.63348869e-01\n",
      " 9.54772175e-01 9.49786880e-01 9.46903523e-01 9.44140294e-01\n",
      " 9.43196865e-01 9.41370844e-01 9.40085444e-01 9.35097396e-01\n",
      " 9.28945785e-01 9.25432153e-01 9.23762018e-01 9.21859461e-01\n",
      " 9.17765699e-01 9.12495107e-01 9.11215441e-01 9.07625990e-01\n",
      " 9.06357544e-01 8.98440772e-01 8.94866134e-01 8.92168769e-01\n",
      " 8.88597178e-01 8.85659351e-01 8.82765566e-01 8.81561374e-01\n",
      " 8.80064347e-01 8.78012135e-01 8.70355239e-01 8.66653119e-01\n",
      " 8.55438628e-01 8.51697762e-01 8.48825076e-01 8.40955875e-01\n",
      " 8.34048461e-01 8.23115239e-01 8.20572603e-01 8.12370357e-01\n",
      " 8.06085873e-01 7.76686068e-01 7.53758367e-01 6.98150154e-01\n",
      " 6.71819312e-01 5.37635061e-01 4.79835982e-01 3.11164462e-01\n",
      " 2.68381660e-01 1.59592528e-01 1.58854235e-01 1.05157532e-01\n",
      " 9.82745893e-02 6.78179317e-02 6.17963592e-02 1.28939947e-29\n",
      " 5.70554819e-30 5.15363383e-30 3.67883362e-30 3.45721692e-30\n",
      " 2.79411981e-30 2.59963059e-30 2.40071485e-30 2.19349514e-30\n",
      " 1.83887173e-30 1.79471381e-30 1.75855058e-30 1.56321504e-30\n",
      " 1.50230185e-30 1.46179426e-30 1.27824823e-30 1.18937960e-30\n",
      " 1.13832437e-30 9.92557772e-31 9.22458948e-31 9.12267305e-31\n",
      " 9.12267305e-31 8.81668765e-31 8.75494212e-31 8.52128029e-31\n",
      " 8.05609797e-31 7.32312935e-31 6.86017545e-31 5.99525128e-31\n",
      " 5.86921806e-31 5.82381699e-31 5.65898285e-31 4.73430436e-31\n",
      " 4.69057582e-31 4.58746411e-31 4.25255674e-31 3.81876900e-31\n",
      " 3.51024701e-31 3.44324381e-31 3.35373398e-31 3.32119010e-31\n",
      " 3.20444301e-31 3.09682849e-31 3.02913664e-31 2.94830812e-31\n",
      " 2.84222854e-31 2.69197389e-31 2.62544725e-31 2.57591422e-31\n",
      " 2.49383101e-31 2.49188489e-31 2.43797033e-31 2.41689940e-31\n",
      " 2.33605729e-31 2.30672094e-31 2.25088125e-31 2.22525345e-31\n",
      " 2.14299580e-31 2.01136170e-31 1.95077790e-31 1.89898225e-31\n",
      " 1.89233824e-31 1.86309014e-31 1.84773620e-31 1.82872781e-31\n",
      " 1.73945666e-31 1.71503908e-31 1.57906766e-31 1.57516019e-31\n",
      " 1.38668753e-31 1.30426545e-31 1.25717635e-31 1.18123153e-31\n",
      " 1.18061637e-31 1.14634546e-31 1.11193857e-31 1.06514321e-31\n",
      " 1.05430412e-31 9.76755899e-32 9.19227954e-32 9.05983099e-32\n",
      " 8.57919364e-32 8.27847620e-32 8.11598190e-32 7.98793047e-32\n",
      " 7.85097835e-32 7.55049201e-32 7.52170144e-32 7.37318136e-32\n",
      " 7.31966251e-32 7.30118917e-32 7.17968107e-32 7.17889748e-32\n",
      " 7.15315502e-32 7.12741524e-32 6.92907718e-32 6.86136994e-32\n",
      " 6.84737489e-32 6.83585263e-32 6.81325424e-32 6.80467361e-32\n",
      " 6.77113831e-32 6.76120148e-32 6.76069213e-32 6.67708347e-32\n",
      " 6.65841904e-32 6.64925182e-32 6.58232355e-32 6.56522099e-32\n",
      " 6.54728303e-32 6.53383102e-32 6.50814303e-32 6.50814303e-32\n",
      " 6.50814303e-32 6.50814303e-32 6.50814303e-32 6.50814303e-32\n",
      " 6.50814303e-32 6.50814303e-32 6.50814303e-32 6.50814303e-32\n",
      " 6.50814303e-32 6.50814303e-32 6.50814303e-32 6.50814303e-32\n",
      " 6.50814303e-32 6.50814303e-32 6.50814303e-32 6.50814303e-32\n",
      " 6.50814303e-32 6.50814303e-32 6.50814303e-32 6.50814303e-32\n",
      " 6.50814303e-32 6.50814303e-32 6.50814303e-32 6.50814303e-32\n",
      " 6.50814303e-32 6.50814303e-32 6.50814303e-32 6.50814303e-32\n",
      " 6.50814303e-32 6.50814303e-32 6.50814303e-32 6.50814303e-32\n",
      " 6.50814303e-32 6.50814303e-32 6.50814303e-32 6.50814303e-32\n",
      " 6.50814303e-32 6.50814303e-32 6.50814303e-32 6.50814303e-32\n",
      " 6.50814303e-32 6.50814303e-32 6.50814303e-32 6.50814303e-32\n",
      " 6.50814303e-32 6.50814303e-32 6.50814303e-32 6.50814303e-32\n",
      " 6.50814303e-32 6.50814303e-32 6.50814303e-32 6.50814303e-32\n",
      " 6.50814303e-32 6.50814303e-32 6.50814303e-32 6.50814303e-32\n",
      " 6.50814303e-32 6.50814303e-32 6.50814303e-32 6.50814303e-32\n",
      " 6.50814303e-32 6.50814303e-32 6.50814303e-32 6.50814303e-32\n",
      " 6.50814303e-32 6.50814303e-32 6.50814303e-32 6.50814303e-32\n",
      " 6.50814303e-32 6.50814303e-32 6.50814303e-32 6.50814303e-32\n",
      " 6.50814303e-32 6.50814303e-32 6.50814303e-32 6.50814303e-32\n",
      " 6.50814303e-32 6.50814303e-32 6.50814303e-32 6.50814303e-32\n",
      " 6.50814303e-32 6.50814303e-32 6.50814303e-32 6.50814303e-32\n",
      " 6.50814303e-32 6.50814303e-32 6.50814303e-32 6.50814303e-32\n",
      " 6.50814303e-32 6.50814303e-32 6.50814303e-32 6.50814303e-32\n",
      " 6.50814303e-32 6.50814303e-32 6.50814303e-32 6.50814303e-32\n",
      " 6.50814303e-32 6.50814303e-32 6.50814303e-32 6.50814303e-32\n",
      " 6.50814303e-32 6.50814303e-32 6.50814303e-32 6.50814303e-32\n",
      " 6.50814303e-32 6.50814303e-32 6.50814303e-32 6.50814303e-32\n",
      " 6.50814303e-32 6.50814303e-32 6.50814303e-32 6.50814303e-32\n",
      " 6.50814303e-32 6.50814303e-32 6.50814303e-32 6.50814303e-32\n",
      " 6.50814303e-32 6.50814303e-32 6.50814303e-32 6.50814303e-32\n",
      " 6.50814303e-32 6.50814303e-32 6.50814303e-32 6.50814303e-32\n",
      " 6.50814303e-32 6.50814303e-32 6.50814303e-32 6.50814303e-32\n",
      " 6.50814303e-32 6.50814303e-32 6.50814303e-32 6.50814303e-32\n",
      " 6.50814303e-32 6.50814303e-32 6.50814303e-32 6.50814303e-32\n",
      " 6.50814303e-32 6.50814303e-32 6.50814303e-32 6.50814303e-32\n",
      " 6.50814303e-32 6.50814303e-32 6.50814303e-32 6.50814303e-32\n",
      " 6.50814303e-32 6.50814303e-32 6.50814303e-32 6.50814303e-32\n",
      " 6.50814303e-32 6.50814303e-32 6.50814303e-32 6.50814303e-32\n",
      " 6.50814303e-32 6.50814303e-32 6.50814303e-32 6.50814303e-32\n",
      " 6.50814303e-32 6.50814303e-32 6.50814303e-32 6.50814303e-32\n",
      " 6.50814303e-32 6.50814303e-32 6.50814303e-32 6.50814303e-32\n",
      " 6.50814303e-32 6.50814303e-32 6.50814303e-32 6.50814303e-32\n",
      " 6.50814303e-32 6.50814303e-32 6.50814303e-32 6.50814303e-32\n",
      " 6.50814303e-32 6.50814303e-32 6.50814303e-32 6.50814303e-32\n",
      " 6.50814303e-32 6.50814303e-32 6.50814303e-32 6.50814303e-32\n",
      " 6.50814303e-32 6.50814303e-32 6.50814303e-32 6.50814303e-32\n",
      " 6.50814303e-32 6.50814303e-32 6.50814303e-32 6.50814303e-32\n",
      " 6.50814303e-32 6.50814303e-32 6.50814303e-32 6.50814303e-32\n",
      " 6.50814303e-32 6.50814303e-32 6.50814303e-32 6.50814303e-32\n",
      " 6.50814303e-32 6.50814303e-32 6.50814303e-32 6.50814303e-32\n",
      " 6.50814303e-32 6.50814303e-32 6.50814303e-32 6.50814303e-32\n",
      " 6.50814303e-32 6.50814303e-32 6.50814303e-32 6.50814303e-32\n",
      " 6.50814303e-32 6.50814303e-32 6.50814303e-32 6.50814303e-32\n",
      " 6.50814303e-32 6.50814303e-32 6.50814303e-32 6.50814303e-32\n",
      " 6.50814303e-32 6.50814303e-32 6.50814303e-32 6.50814303e-32\n",
      " 6.50814303e-32 6.50814303e-32 6.50814303e-32 6.50814303e-32\n",
      " 6.50814303e-32 6.50814303e-32 6.50814303e-32 6.50814303e-32\n",
      " 6.50814303e-32 6.50814303e-32 6.50814303e-32 6.50814303e-32\n",
      " 6.50814303e-32 6.50814303e-32 6.50814303e-32 6.50814303e-32\n",
      " 6.50814303e-32 6.50814303e-32 6.50814303e-32 6.20854118e-32\n",
      " 5.19087096e-32 4.77055529e-32 4.65661862e-32 4.64973864e-32\n",
      " 4.55367069e-32 4.19217158e-32 3.29776212e-32 2.49714350e-32\n",
      " 2.43500898e-32 2.31614161e-32 1.82990454e-32 1.29449633e-32\n",
      " 1.22311427e-32 1.19825534e-32 1.17496758e-32 1.14976923e-32\n",
      " 7.75536186e-33 5.45736539e-33 4.63844616e-33 4.12542301e-33\n",
      " 3.21674278e-33 2.27506274e-33 1.50724151e-35]\n"
     ]
    }
   ],
   "source": [
    "# Extracting \n",
    "print(\"Principal components:\\n\",pca.components_,\"\\n\")\n",
    "print(\"Variance explained:\\n\",pca.explained_variance_)"
   ]
  },
  {
   "cell_type": "code",
   "execution_count": 20,
   "metadata": {
    "slideshow": {
     "slide_type": "slide"
    }
   },
   "outputs": [
    {
     "data": {
      "image/png": "[encoded data removed]",
      "text/plain": [
       "<matplotlib.figure.Figure at 0x7fd379019358>"
      ]
     },
     "metadata": {},
     "output_type": "display_data"
    }
   ],
   "source": [
    "%matplotlib inline\n",
    "import matplotlib.pyplot as plt\n",
    "\n",
    "b = pca.explained_variance_\n",
    "a = list(range(len(ptm_model_features.columns)))\n",
    "plt.plot(a,b, \"bo\",a,b,\"k\")\n",
    "plt.xlabel(\"# components\")\n",
    "plt.ylabel(\"explained variance\")\n",
    "\n",
    "## plot explained variance vs number of components\n",
    "plt.show()"
   ]
  },
  {
   "cell_type": "markdown",
   "metadata": {
    "slideshow": {
     "slide_type": "skip"
    }
   },
   "source": [
    "Based on the plot above, 100, 300, and all of the components were selected as potential values for training a classifier."
   ]
  },
  {
   "cell_type": "markdown",
   "metadata": {
    "slideshow": {
     "slide_type": "slide"
    }
   },
   "source": [
    "### PCA & SVC Pipeline"
   ]
  },
  {
   "cell_type": "markdown",
   "metadata": {
    "slideshow": {
     "slide_type": "skip"
    }
   },
   "source": [
    "The Pipeline feature of sklearn is used in conjuction with the GridSearchCV capability to construct a PCA, SVC classifier.  The first step in the pipeline is PCA followed by SVC.  Parameters included in the grid search are the values for the number of components included in the PCA step ranging from 100 to 671.  The grid search uses a five fold cross validation splitting strategy."
   ]
  },
  {
   "cell_type": "code",
   "execution_count": 21,
   "metadata": {
    "slideshow": {
     "slide_type": "fragment"
    }
   },
   "outputs": [
    {
     "name": "stdout",
     "output_type": "stream",
     "text": [
      "Fitting 5 folds for each of 3 candidates, totalling 15 fits\n"
     ]
    },
    {
     "name": "stderr",
     "output_type": "stream",
     "text": [
      "[Parallel(n_jobs=-1)]: Done  15 out of  15 | elapsed:  2.6min finished\n"
     ]
    },
    {
     "name": "stdout",
     "output_type": "stream",
     "text": [
      "Best parameters {'reduce_dim__n_components': 671}\n",
      "CPU times: user 43.8 s, sys: 209 ms, total: 44 s\n",
      "Wall time: 3min 20s\n"
     ]
    }
   ],
   "source": [
    "%%time\n",
    "\n",
    "## References:\n",
    "##http://scikit-learn.org/stable/modules/generated/sklearn.model_selection.GridSearchCV.html#sklearn.model_selection.GridSearchCV\n",
    "##http://scikit-learn.org/stable/modules/generated/sklearn.pipeline.Pipeline.html\n",
    "##http://scikit-learn.org/stable/auto_examples/model_selection/grid_search_text_feature_extraction.html#sphx-glr-auto-examples-model-selection-grid-search-text-feature-extraction-py\n",
    "\n",
    "parameters = {\n",
    "    'reduce_dim__n_components': [len(ptm_model_features.columns), 100, 300]\n",
    "}\n",
    "\n",
    "pipe =Pipeline( [\n",
    "    (\"reduce_dim\", PCA()),\n",
    "    (\"clf_svc,\", SVC())\n",
    "])\n",
    "grid_search = GridSearchCV(pipe, parameters, n_jobs=-1, verbose=1, cv=5)\n",
    "\n",
    "grid_search.fit(X_train, y_train)\n",
    "\n",
    "print(\"Best parameters\", grid_search.best_params_)\n"
   ]
  },
  {
   "cell_type": "markdown",
   "metadata": {
    "slideshow": {
     "slide_type": "slide"
    }
   },
   "source": [
    "#### PCA & SVC Pipeline Classification Report"
   ]
  },
  {
   "cell_type": "code",
   "execution_count": 22,
   "metadata": {
    "slideshow": {
     "slide_type": "fragment"
    }
   },
   "outputs": [
    {
     "name": "stdout",
     "output_type": "stream",
     "text": [
      "CPU times: user 2 µs, sys: 0 ns, total: 2 µs\n",
      "Wall time: 4.29 µs\n",
      "                 precision    recall  f1-score   support\n",
      "\n",
      "       O-GalNAc       0.68      0.83      0.75       614\n",
      "       O-GlcNAc       0.83      0.64      0.72       609\n",
      "    acetylation       0.58      0.48      0.52       665\n",
      "    methylation       0.98      0.73      0.84       615\n",
      "phosphorylation       0.67      0.69      0.68       637\n",
      "    sumoylation       0.63      0.60      0.61       544\n",
      " ubiquitination       0.45      0.67      0.54       610\n",
      "\n",
      "    avg / total       0.69      0.66      0.66      4294\n",
      "\n"
     ]
    }
   ],
   "source": [
    "%time\n",
    "pca_svc_predictions = grid_search.predict(X_test)\n",
    "print(classification_report(y_test, pca_svc_predictions))"
   ]
  },
  {
   "cell_type": "markdown",
   "metadata": {
    "slideshow": {
     "slide_type": "slide"
    }
   },
   "source": [
    "#### PCA & SVC Pipeline Confusion Matrix"
   ]
  },
  {
   "cell_type": "code",
   "execution_count": 43,
   "metadata": {
    "slideshow": {
     "slide_type": "fragment"
    }
   },
   "outputs": [
    {
     "name": "stdout",
     "output_type": "stream",
     "text": [
      "Confusion Matrix\n"
     ]
    },
    {
     "data": {
      "text/html": [
       "<div>\n",
       "<style scoped>\n",
       "    .dataframe tbody tr th:only-of-type {\n",
       "        vertical-align: middle;\n",
       "    }\n",
       "\n",
       "    .dataframe tbody tr th {\n",
       "        vertical-align: top;\n",
       "    }\n",
       "\n",
       "    .dataframe thead th {\n",
       "        text-align: right;\n",
       "    }\n",
       "</style>\n",
       "<table border=\"1\" class=\"dataframe\">\n",
       "  <thead>\n",
       "    <tr style=\"text-align: right;\">\n",
       "      <th></th>\n",
       "      <th>O-GalNAc</th>\n",
       "      <th>O-GlcNAc</th>\n",
       "      <th>acetylation</th>\n",
       "      <th>methylation</th>\n",
       "      <th>phosphorylation</th>\n",
       "      <th>sumoylation</th>\n",
       "      <th>ubiquitination</th>\n",
       "    </tr>\n",
       "  </thead>\n",
       "  <tbody>\n",
       "    <tr>\n",
       "      <th>O-GalNAc</th>\n",
       "      <td>507</td>\n",
       "      <td>102</td>\n",
       "      <td>0</td>\n",
       "      <td>0</td>\n",
       "      <td>134</td>\n",
       "      <td>0</td>\n",
       "      <td>0</td>\n",
       "    </tr>\n",
       "    <tr>\n",
       "      <th>O-GlcNAc</th>\n",
       "      <td>18</td>\n",
       "      <td>390</td>\n",
       "      <td>0</td>\n",
       "      <td>0</td>\n",
       "      <td>63</td>\n",
       "      <td>0</td>\n",
       "      <td>0</td>\n",
       "    </tr>\n",
       "    <tr>\n",
       "      <th>acetylation</th>\n",
       "      <td>0</td>\n",
       "      <td>0</td>\n",
       "      <td>316</td>\n",
       "      <td>49</td>\n",
       "      <td>0</td>\n",
       "      <td>63</td>\n",
       "      <td>119</td>\n",
       "    </tr>\n",
       "    <tr>\n",
       "      <th>methylation</th>\n",
       "      <td>0</td>\n",
       "      <td>0</td>\n",
       "      <td>5</td>\n",
       "      <td>446</td>\n",
       "      <td>0</td>\n",
       "      <td>2</td>\n",
       "      <td>0</td>\n",
       "    </tr>\n",
       "    <tr>\n",
       "      <th>phosphorylation</th>\n",
       "      <td>89</td>\n",
       "      <td>117</td>\n",
       "      <td>5</td>\n",
       "      <td>4</td>\n",
       "      <td>440</td>\n",
       "      <td>1</td>\n",
       "      <td>1</td>\n",
       "    </tr>\n",
       "    <tr>\n",
       "      <th>sumoylation</th>\n",
       "      <td>0</td>\n",
       "      <td>0</td>\n",
       "      <td>74</td>\n",
       "      <td>36</td>\n",
       "      <td>0</td>\n",
       "      <td>324</td>\n",
       "      <td>84</td>\n",
       "    </tr>\n",
       "    <tr>\n",
       "      <th>ubiquitination</th>\n",
       "      <td>0</td>\n",
       "      <td>0</td>\n",
       "      <td>265</td>\n",
       "      <td>80</td>\n",
       "      <td>0</td>\n",
       "      <td>154</td>\n",
       "      <td>406</td>\n",
       "    </tr>\n",
       "  </tbody>\n",
       "</table>\n",
       "</div>"
      ],
      "text/plain": [
       "                 O-GalNAc  O-GlcNAc  acetylation  methylation  \\\n",
       "O-GalNAc              507       102            0            0   \n",
       "O-GlcNAc               18       390            0            0   \n",
       "acetylation             0         0          316           49   \n",
       "methylation             0         0            5          446   \n",
       "phosphorylation        89       117            5            4   \n",
       "sumoylation             0         0           74           36   \n",
       "ubiquitination          0         0          265           80   \n",
       "\n",
       "                 phosphorylation  sumoylation  ubiquitination  \n",
       "O-GalNAc                     134            0               0  \n",
       "O-GlcNAc                      63            0               0  \n",
       "acetylation                    0           63             119  \n",
       "methylation                    0            2               0  \n",
       "phosphorylation              440            1               1  \n",
       "sumoylation                    0          324              84  \n",
       "ubiquitination                 0          154             406  "
      ]
     },
     "execution_count": 43,
     "metadata": {},
     "output_type": "execute_result"
    }
   ],
   "source": [
    "## confusion matrix\n",
    "pca_svc_cm = confusion_matrix(pca_svc_predictions, y_test)\n",
    "\n",
    "pca_svc_cm_df = pd.DataFrame(pca_svc_cm, columns = np.sort(ptm_model_target.unique()), index = np.sort(ptm_model_target.unique()))\n",
    "print(\"Confusion Matrix\")\n",
    "pca_svc_cm_df"
   ]
  },
  {
   "cell_type": "markdown",
   "metadata": {
    "slideshow": {
     "slide_type": "skip"
    }
   },
   "source": [
    "### PCA, SVC pipeine summary\n",
    "\n",
    "The grid search determined the best performance was achieved using all 671 components\n",
    "\n",
    "The classification report reveals some promising f1-scores for certian types of PTMs while other are underwhelming.  The top three performers being methylation, O-GalNAc and O-GlcNAc with f1-scores of 0.84, 0.75, and 0.72 respectively.  Ubiquination, acetylation, and sumoylation are the poorest performing with f1-scores of 0.54, 0.52, and 0.61 respectively.  \n",
    "\n",
    "The confusion matrix presents some interesting patterns.  The false negatives for each type of PTM are typically grouped into 2 to 4 other PTMs but rarely appearing in all 6 other types of PTMs.  For example, acetylation is sometimes wrongly classified as methylation, sumoylation, or ubiquitination, however, never as phosphorylation, O-GlcNAc, or O-GalNAc.  In another example, sumoylation is wronly classified as acetylation methylation, sumoylation, or ubiquitination.  These patterns could infer some sort of relationship between these types of PTMs within the current features space.  One with expertise in this field may be able to make some inferences regarding these patterns.  "
   ]
  },
  {
   "cell_type": "markdown",
   "metadata": {
    "slideshow": {
     "slide_type": "slide"
    }
   },
   "source": [
    "### RandomForestClassifier"
   ]
  },
  {
   "cell_type": "markdown",
   "metadata": {
    "slideshow": {
     "slide_type": "skip"
    }
   },
   "source": [
    "In the spirit of experminentation, the data is also run through the RandomForestClassifier.  A GridSearchCV is conducted to test different values for the 'min_samples_leaf', 'min_samples_split', 'n_estimators', and 'warm_start' parameters.  The grid search uses a five fold cross validation splitting strategy."
   ]
  },
  {
   "cell_type": "code",
   "execution_count": 27,
   "metadata": {
    "scrolled": true,
    "slideshow": {
     "slide_type": "fragment"
    }
   },
   "outputs": [
    {
     "name": "stdout",
     "output_type": "stream",
     "text": [
      "Best parameters for training set:  {'bootstrap': True, 'class_weight': None, 'criterion': 'gini', 'max_depth': None, 'max_features': 'auto', 'max_leaf_nodes': None, 'min_impurity_decrease': 0.0, 'min_impurity_split': None, 'min_samples_leaf': 1, 'min_samples_split': 2, 'min_weight_fraction_leaf': 0.0, 'n_estimators': 1280, 'n_jobs': 7, 'oob_score': False, 'random_state': 1234, 'verbose': 0, 'warm_start': False}\n",
      "Best test score:  0.6758813480354092 +/- 0.01\n",
      "CPU times: user 1h 46min 55s, sys: 1min 23s, total: 1h 48min 19s\n",
      "Wall time: 20min 37s\n"
     ]
    }
   ],
   "source": [
    "%%time\n",
    "## http://scikit-learn.org/stable/modules/generated/sklearn.ensemble.RandomForestClassifier.html#sklearn.ensemble.RandomForestClassifier\n",
    "\n",
    "param_grid = {'bootstrap': [True],\n",
    " 'class_weight': [None],\n",
    " 'criterion': ['gini'],\n",
    " 'max_depth': [None],\n",
    " 'max_features': ['auto'],\n",
    " 'max_leaf_nodes': [None],\n",
    " 'min_impurity_decrease': [0.0],\n",
    " 'min_impurity_split': [None],\n",
    " 'min_samples_leaf': [1,2,3],\n",
    " 'min_samples_split': [2,4,8],\n",
    " 'min_weight_fraction_leaf': [0.0],\n",
    " 'n_estimators': [160, 320, 640, 1280],\n",
    " 'n_jobs': [7],\n",
    " 'oob_score': [False],\n",
    " 'random_state': [1234],\n",
    " 'verbose': [0],\n",
    " 'warm_start': [False, True]}\n",
    "\n",
    "\n",
    "forest_clf = GridSearchCV(RandomForestClassifier(), param_grid, cv=5)\n",
    "\n",
    "forest_clf.fit(X_train, y_train)\n",
    "\n",
    "print(\"Best parameters for training set: \", forest_clf.best_params_)\n",
    "print(\"Best test score: \", str(forest_clf.best_score_) + \" +/- \" + str(round(forest_clf.cv_results_[\"std_test_score\"][forest_clf.best_index_], 2)))\n"
   ]
  },
  {
   "cell_type": "markdown",
   "metadata": {
    "slideshow": {
     "slide_type": "slide"
    }
   },
   "source": [
    "#### RandomForestClassifier Classification Report"
   ]
  },
  {
   "cell_type": "code",
   "execution_count": 28,
   "metadata": {
    "slideshow": {
     "slide_type": "fragment"
    }
   },
   "outputs": [
    {
     "name": "stdout",
     "output_type": "stream",
     "text": [
      "                 precision    recall  f1-score   support\n",
      "\n",
      "       O-GalNAc       0.70      0.79      0.75       614\n",
      "       O-GlcNAc       0.80      0.71      0.75       609\n",
      "    acetylation       0.61      0.51      0.55       665\n",
      "    methylation       1.00      0.72      0.84       615\n",
      "phosphorylation       0.68      0.67      0.68       637\n",
      "    sumoylation       0.67      0.58      0.62       544\n",
      " ubiquitination       0.45      0.71      0.55       610\n",
      "\n",
      "    avg / total       0.70      0.67      0.68      4294\n",
      "\n"
     ]
    }
   ],
   "source": [
    "forest_predictions = forest_clf.predict(X_test)\n",
    "\n",
    "print(classification_report(y_test, forest_predictions))"
   ]
  },
  {
   "cell_type": "markdown",
   "metadata": {
    "slideshow": {
     "slide_type": "slide"
    }
   },
   "source": [
    "#### RandomForestClassifier Confusion Matrix"
   ]
  },
  {
   "cell_type": "code",
   "execution_count": 41,
   "metadata": {
    "slideshow": {
     "slide_type": "fragment"
    }
   },
   "outputs": [
    {
     "name": "stdout",
     "output_type": "stream",
     "text": [
      "Confusion Matrix\n"
     ]
    },
    {
     "data": {
      "text/html": [
       "<div>\n",
       "<style scoped>\n",
       "    .dataframe tbody tr th:only-of-type {\n",
       "        vertical-align: middle;\n",
       "    }\n",
       "\n",
       "    .dataframe tbody tr th {\n",
       "        vertical-align: top;\n",
       "    }\n",
       "\n",
       "    .dataframe thead th {\n",
       "        text-align: right;\n",
       "    }\n",
       "</style>\n",
       "<table border=\"1\" class=\"dataframe\">\n",
       "  <thead>\n",
       "    <tr style=\"text-align: right;\">\n",
       "      <th></th>\n",
       "      <th>O-GalNAc</th>\n",
       "      <th>O-GlcNAc</th>\n",
       "      <th>acetylation</th>\n",
       "      <th>methylation</th>\n",
       "      <th>phosphorylation</th>\n",
       "      <th>sumoylation</th>\n",
       "      <th>ubiquitination</th>\n",
       "    </tr>\n",
       "  </thead>\n",
       "  <tbody>\n",
       "    <tr>\n",
       "      <th>O-GalNAc</th>\n",
       "      <td>488</td>\n",
       "      <td>85</td>\n",
       "      <td>0</td>\n",
       "      <td>0</td>\n",
       "      <td>121</td>\n",
       "      <td>0</td>\n",
       "      <td>0</td>\n",
       "    </tr>\n",
       "    <tr>\n",
       "      <th>O-GlcNAc</th>\n",
       "      <td>20</td>\n",
       "      <td>435</td>\n",
       "      <td>0</td>\n",
       "      <td>0</td>\n",
       "      <td>91</td>\n",
       "      <td>0</td>\n",
       "      <td>0</td>\n",
       "    </tr>\n",
       "    <tr>\n",
       "      <th>acetylation</th>\n",
       "      <td>0</td>\n",
       "      <td>0</td>\n",
       "      <td>337</td>\n",
       "      <td>47</td>\n",
       "      <td>0</td>\n",
       "      <td>57</td>\n",
       "      <td>109</td>\n",
       "    </tr>\n",
       "    <tr>\n",
       "      <th>methylation</th>\n",
       "      <td>0</td>\n",
       "      <td>0</td>\n",
       "      <td>2</td>\n",
       "      <td>445</td>\n",
       "      <td>0</td>\n",
       "      <td>0</td>\n",
       "      <td>0</td>\n",
       "    </tr>\n",
       "    <tr>\n",
       "      <th>phosphorylation</th>\n",
       "      <td>106</td>\n",
       "      <td>89</td>\n",
       "      <td>0</td>\n",
       "      <td>1</td>\n",
       "      <td>425</td>\n",
       "      <td>0</td>\n",
       "      <td>0</td>\n",
       "    </tr>\n",
       "    <tr>\n",
       "      <th>sumoylation</th>\n",
       "      <td>0</td>\n",
       "      <td>0</td>\n",
       "      <td>56</td>\n",
       "      <td>27</td>\n",
       "      <td>0</td>\n",
       "      <td>314</td>\n",
       "      <td>69</td>\n",
       "    </tr>\n",
       "    <tr>\n",
       "      <th>ubiquitination</th>\n",
       "      <td>0</td>\n",
       "      <td>0</td>\n",
       "      <td>270</td>\n",
       "      <td>95</td>\n",
       "      <td>0</td>\n",
       "      <td>173</td>\n",
       "      <td>432</td>\n",
       "    </tr>\n",
       "  </tbody>\n",
       "</table>\n",
       "</div>"
      ],
      "text/plain": [
       "                 O-GalNAc  O-GlcNAc  acetylation  methylation  \\\n",
       "O-GalNAc              488        85            0            0   \n",
       "O-GlcNAc               20       435            0            0   \n",
       "acetylation             0         0          337           47   \n",
       "methylation             0         0            2          445   \n",
       "phosphorylation       106        89            0            1   \n",
       "sumoylation             0         0           56           27   \n",
       "ubiquitination          0         0          270           95   \n",
       "\n",
       "                 phosphorylation  sumoylation  ubiquitination  \n",
       "O-GalNAc                     121            0               0  \n",
       "O-GlcNAc                      91            0               0  \n",
       "acetylation                    0           57             109  \n",
       "methylation                    0            0               0  \n",
       "phosphorylation              425            0               0  \n",
       "sumoylation                    0          314              69  \n",
       "ubiquitination                 0          173             432  "
      ]
     },
     "execution_count": 41,
     "metadata": {},
     "output_type": "execute_result"
    }
   ],
   "source": [
    "# confusion matrix\n",
    "forest_cm = confusion_matrix(forest_predictions, y_test)\n",
    "\n",
    "forest_cm_df = pd.DataFrame(forest_cm, columns = np.sort(ptm_model_target.unique()), index = np.sort(ptm_model_target.unique()))\n",
    "print(\"Confusion Matrix\")\n",
    "forest_cm_df"
   ]
  },
  {
   "cell_type": "code",
   "execution_count": 39,
   "metadata": {
    "slideshow": {
     "slide_type": "skip"
    }
   },
   "outputs": [
    {
     "data": {
      "text/plain": [
       "array(['O-GalNAc', 'O-GlcNAc', 'acetylation', 'methylation',\n",
       "       'phosphorylation', 'sumoylation', 'ubiquitination'], dtype=object)"
      ]
     },
     "execution_count": 39,
     "metadata": {},
     "output_type": "execute_result"
    }
   ],
   "source": [
    "l = ptm_model_target.unique()\n",
    "np.sort(l)"
   ]
  },
  {
   "cell_type": "markdown",
   "metadata": {
    "slideshow": {
     "slide_type": "skip"
    }
   },
   "source": [
    "### RandomForestClassifier summary"
   ]
  },
  {
   "cell_type": "markdown",
   "metadata": {
    "slideshow": {
     "slide_type": "skip"
    }
   },
   "source": [
    "The grid search revealed the best parameters for the training data set were 'min_samples_leaf': 1, 'min_samples_split': 2, 'min_weight_fraction_leaf': 0.0, 'n_estimators': 1280, and warm_start': False.  According to the 'n_estimators' parameter, the model built 1280 trees each pass dramatically increasing the run time when compared to the PCA and SVC pipeline.  \n",
    "\n",
    "The classification report highlights methylation, O-GalNAc, and O-GlcNAc as top performers with f1 scores of 0.84, 0.75, and 0.75 respectively.  The confusion matrix is very similar to the PCA, SVC pipeline."
   ]
  },
  {
   "cell_type": "markdown",
   "metadata": {
    "slideshow": {
     "slide_type": "slide"
    }
   },
   "source": [
    "### Comparing PCA, SVC vs RandomForestClassifier"
   ]
  },
  {
   "cell_type": "code",
   "execution_count": 44,
   "metadata": {
    "slideshow": {
     "slide_type": "fragment"
    }
   },
   "outputs": [
    {
     "data": {
      "text/html": [
       "<div>\n",
       "<style scoped>\n",
       "    .dataframe tbody tr th:only-of-type {\n",
       "        vertical-align: middle;\n",
       "    }\n",
       "\n",
       "    .dataframe tbody tr th {\n",
       "        vertical-align: top;\n",
       "    }\n",
       "\n",
       "    .dataframe thead th {\n",
       "        text-align: right;\n",
       "    }\n",
       "</style>\n",
       "<table border=\"1\" class=\"dataframe\">\n",
       "  <thead>\n",
       "    <tr style=\"text-align: right;\">\n",
       "      <th></th>\n",
       "      <th>O-GalNAc</th>\n",
       "      <th>O-GlcNAc</th>\n",
       "      <th>acetylation</th>\n",
       "      <th>methylation</th>\n",
       "      <th>phosphorylation</th>\n",
       "      <th>sumoylation</th>\n",
       "      <th>ubiquitination</th>\n",
       "    </tr>\n",
       "  </thead>\n",
       "  <tbody>\n",
       "    <tr>\n",
       "      <th>O-GalNAc</th>\n",
       "      <td>507</td>\n",
       "      <td>102</td>\n",
       "      <td>0</td>\n",
       "      <td>0</td>\n",
       "      <td>134</td>\n",
       "      <td>0</td>\n",
       "      <td>0</td>\n",
       "    </tr>\n",
       "    <tr>\n",
       "      <th>O-GlcNAc</th>\n",
       "      <td>18</td>\n",
       "      <td>390</td>\n",
       "      <td>0</td>\n",
       "      <td>0</td>\n",
       "      <td>63</td>\n",
       "      <td>0</td>\n",
       "      <td>0</td>\n",
       "    </tr>\n",
       "    <tr>\n",
       "      <th>acetylation</th>\n",
       "      <td>0</td>\n",
       "      <td>0</td>\n",
       "      <td>316</td>\n",
       "      <td>49</td>\n",
       "      <td>0</td>\n",
       "      <td>63</td>\n",
       "      <td>119</td>\n",
       "    </tr>\n",
       "    <tr>\n",
       "      <th>methylation</th>\n",
       "      <td>0</td>\n",
       "      <td>0</td>\n",
       "      <td>5</td>\n",
       "      <td>446</td>\n",
       "      <td>0</td>\n",
       "      <td>2</td>\n",
       "      <td>0</td>\n",
       "    </tr>\n",
       "    <tr>\n",
       "      <th>phosphorylation</th>\n",
       "      <td>89</td>\n",
       "      <td>117</td>\n",
       "      <td>5</td>\n",
       "      <td>4</td>\n",
       "      <td>440</td>\n",
       "      <td>1</td>\n",
       "      <td>1</td>\n",
       "    </tr>\n",
       "    <tr>\n",
       "      <th>sumoylation</th>\n",
       "      <td>0</td>\n",
       "      <td>0</td>\n",
       "      <td>74</td>\n",
       "      <td>36</td>\n",
       "      <td>0</td>\n",
       "      <td>324</td>\n",
       "      <td>84</td>\n",
       "    </tr>\n",
       "    <tr>\n",
       "      <th>ubiquitination</th>\n",
       "      <td>0</td>\n",
       "      <td>0</td>\n",
       "      <td>265</td>\n",
       "      <td>80</td>\n",
       "      <td>0</td>\n",
       "      <td>154</td>\n",
       "      <td>406</td>\n",
       "    </tr>\n",
       "  </tbody>\n",
       "</table>\n",
       "</div>"
      ],
      "text/plain": [
       "                 O-GalNAc  O-GlcNAc  acetylation  methylation  \\\n",
       "O-GalNAc              507       102            0            0   \n",
       "O-GlcNAc               18       390            0            0   \n",
       "acetylation             0         0          316           49   \n",
       "methylation             0         0            5          446   \n",
       "phosphorylation        89       117            5            4   \n",
       "sumoylation             0         0           74           36   \n",
       "ubiquitination          0         0          265           80   \n",
       "\n",
       "                 phosphorylation  sumoylation  ubiquitination  \n",
       "O-GalNAc                     134            0               0  \n",
       "O-GlcNAc                      63            0               0  \n",
       "acetylation                    0           63             119  \n",
       "methylation                    0            2               0  \n",
       "phosphorylation              440            1               1  \n",
       "sumoylation                    0          324              84  \n",
       "ubiquitination                 0          154             406  "
      ]
     },
     "execution_count": 44,
     "metadata": {},
     "output_type": "execute_result"
    }
   ],
   "source": [
    "pca_svc_cm_df"
   ]
  },
  {
   "cell_type": "code",
   "execution_count": 45,
   "metadata": {
    "slideshow": {
     "slide_type": "fragment"
    }
   },
   "outputs": [
    {
     "data": {
      "text/html": [
       "<div>\n",
       "<style scoped>\n",
       "    .dataframe tbody tr th:only-of-type {\n",
       "        vertical-align: middle;\n",
       "    }\n",
       "\n",
       "    .dataframe tbody tr th {\n",
       "        vertical-align: top;\n",
       "    }\n",
       "\n",
       "    .dataframe thead th {\n",
       "        text-align: right;\n",
       "    }\n",
       "</style>\n",
       "<table border=\"1\" class=\"dataframe\">\n",
       "  <thead>\n",
       "    <tr style=\"text-align: right;\">\n",
       "      <th></th>\n",
       "      <th>O-GalNAc</th>\n",
       "      <th>O-GlcNAc</th>\n",
       "      <th>acetylation</th>\n",
       "      <th>methylation</th>\n",
       "      <th>phosphorylation</th>\n",
       "      <th>sumoylation</th>\n",
       "      <th>ubiquitination</th>\n",
       "    </tr>\n",
       "  </thead>\n",
       "  <tbody>\n",
       "    <tr>\n",
       "      <th>O-GalNAc</th>\n",
       "      <td>488</td>\n",
       "      <td>85</td>\n",
       "      <td>0</td>\n",
       "      <td>0</td>\n",
       "      <td>121</td>\n",
       "      <td>0</td>\n",
       "      <td>0</td>\n",
       "    </tr>\n",
       "    <tr>\n",
       "      <th>O-GlcNAc</th>\n",
       "      <td>20</td>\n",
       "      <td>435</td>\n",
       "      <td>0</td>\n",
       "      <td>0</td>\n",
       "      <td>91</td>\n",
       "      <td>0</td>\n",
       "      <td>0</td>\n",
       "    </tr>\n",
       "    <tr>\n",
       "      <th>acetylation</th>\n",
       "      <td>0</td>\n",
       "      <td>0</td>\n",
       "      <td>337</td>\n",
       "      <td>47</td>\n",
       "      <td>0</td>\n",
       "      <td>57</td>\n",
       "      <td>109</td>\n",
       "    </tr>\n",
       "    <tr>\n",
       "      <th>methylation</th>\n",
       "      <td>0</td>\n",
       "      <td>0</td>\n",
       "      <td>2</td>\n",
       "      <td>445</td>\n",
       "      <td>0</td>\n",
       "      <td>0</td>\n",
       "      <td>0</td>\n",
       "    </tr>\n",
       "    <tr>\n",
       "      <th>phosphorylation</th>\n",
       "      <td>106</td>\n",
       "      <td>89</td>\n",
       "      <td>0</td>\n",
       "      <td>1</td>\n",
       "      <td>425</td>\n",
       "      <td>0</td>\n",
       "      <td>0</td>\n",
       "    </tr>\n",
       "    <tr>\n",
       "      <th>sumoylation</th>\n",
       "      <td>0</td>\n",
       "      <td>0</td>\n",
       "      <td>56</td>\n",
       "      <td>27</td>\n",
       "      <td>0</td>\n",
       "      <td>314</td>\n",
       "      <td>69</td>\n",
       "    </tr>\n",
       "    <tr>\n",
       "      <th>ubiquitination</th>\n",
       "      <td>0</td>\n",
       "      <td>0</td>\n",
       "      <td>270</td>\n",
       "      <td>95</td>\n",
       "      <td>0</td>\n",
       "      <td>173</td>\n",
       "      <td>432</td>\n",
       "    </tr>\n",
       "  </tbody>\n",
       "</table>\n",
       "</div>"
      ],
      "text/plain": [
       "                 O-GalNAc  O-GlcNAc  acetylation  methylation  \\\n",
       "O-GalNAc              488        85            0            0   \n",
       "O-GlcNAc               20       435            0            0   \n",
       "acetylation             0         0          337           47   \n",
       "methylation             0         0            2          445   \n",
       "phosphorylation       106        89            0            1   \n",
       "sumoylation             0         0           56           27   \n",
       "ubiquitination          0         0          270           95   \n",
       "\n",
       "                 phosphorylation  sumoylation  ubiquitination  \n",
       "O-GalNAc                     121            0               0  \n",
       "O-GlcNAc                      91            0               0  \n",
       "acetylation                    0           57             109  \n",
       "methylation                    0            0               0  \n",
       "phosphorylation              425            0               0  \n",
       "sumoylation                    0          314              69  \n",
       "ubiquitination                 0          173             432  "
      ]
     },
     "execution_count": 45,
     "metadata": {},
     "output_type": "execute_result"
    }
   ],
   "source": [
    "forest_cm_df"
   ]
  },
  {
   "cell_type": "markdown",
   "metadata": {
    "slideshow": {
     "slide_type": "slide"
    }
   },
   "source": [
    "### Comparing PCA, SVC vs RandomForestClassifier"
   ]
  },
  {
   "cell_type": "code",
   "execution_count": 22,
   "metadata": {
    "slideshow": {
     "slide_type": "fragment"
    }
   },
   "outputs": [
    {
     "name": "stdout",
     "output_type": "stream",
     "text": [
      "CPU times: user 2 µs, sys: 0 ns, total: 2 µs\n",
      "Wall time: 4.29 µs\n",
      "                 precision    recall  f1-score   support\n",
      "\n",
      "       O-GalNAc       0.68      0.83      0.75       614\n",
      "       O-GlcNAc       0.83      0.64      0.72       609\n",
      "    acetylation       0.58      0.48      0.52       665\n",
      "    methylation       0.98      0.73      0.84       615\n",
      "phosphorylation       0.67      0.69      0.68       637\n",
      "    sumoylation       0.63      0.60      0.61       544\n",
      " ubiquitination       0.45      0.67      0.54       610\n",
      "\n",
      "    avg / total       0.69      0.66      0.66      4294\n",
      "\n"
     ]
    }
   ],
   "source": [
    "%time\n",
    "pca_svc_predictions = grid_search.predict(X_test)\n",
    "print(classification_report(y_test, pca_svc_predictions))"
   ]
  },
  {
   "cell_type": "code",
   "execution_count": 28,
   "metadata": {
    "slideshow": {
     "slide_type": "fragment"
    }
   },
   "outputs": [
    {
     "name": "stdout",
     "output_type": "stream",
     "text": [
      "                 precision    recall  f1-score   support\n",
      "\n",
      "       O-GalNAc       0.70      0.79      0.75       614\n",
      "       O-GlcNAc       0.80      0.71      0.75       609\n",
      "    acetylation       0.61      0.51      0.55       665\n",
      "    methylation       1.00      0.72      0.84       615\n",
      "phosphorylation       0.68      0.67      0.68       637\n",
      "    sumoylation       0.67      0.58      0.62       544\n",
      " ubiquitination       0.45      0.71      0.55       610\n",
      "\n",
      "    avg / total       0.70      0.67      0.68      4294\n",
      "\n"
     ]
    }
   ],
   "source": [
    "forest_predictions = forest_clf.predict(X_test)\n",
    "\n",
    "print(classification_report(y_test, forest_predictions))"
   ]
  },
  {
   "cell_type": "markdown",
   "metadata": {
    "slideshow": {
     "slide_type": "slide"
    }
   },
   "source": [
    "## Next steps\n",
    "\n",
    "- Assign probabilities to classifications with RandomForestRegressor or Support Vector Regressor (SVC)\n",
    "- Explore the similarities within the clusters highlighted by the confusion matrix\n",
    "- Extend feature space beyond amino acid composition to areas such as the proteins responsible for targeting these PTMs"
   ]
  },
  {
   "cell_type": "markdown",
   "metadata": {
    "slideshow": {
     "slide_type": "slide"
    }
   },
   "source": [
    "![libraries](images/libraries-datasets-slide.png)"
   ]
  },
  {
   "cell_type": "markdown",
   "metadata": {
    "slideshow": {
     "slide_type": "slide"
    }
   },
   "source": [
    "![references](images/references-slide.png)"
   ]
  }
 ],
 "metadata": {
  "celltoolbar": "Slideshow",
  "kernelspec": {
   "display_name": "Python 3",
   "language": "python",
   "name": "python3"
  },
  "language_info": {
   "codemirror_mode": {
    "name": "ipython",
    "version": 3
   },
   "file_extension": ".py",
   "mimetype": "text/x-python",
   "name": "python",
   "nbconvert_exporter": "python",
   "pygments_lexer": "ipython3",
   "version": "3.6.4"
  }
 },
 "nbformat": 4,
 "nbformat_minor": 2
}
